{
 "cells": [
  {
   "cell_type": "markdown",
   "metadata": {},
   "source": [
    "# Quality data science deliverables\n",
    "\n",
    "Later today you will be given your **first project assignment**. Many questions will be answered then. \n",
    "\n",
    "But it is safe to assume that a **presentation** and a **jupyter notebook** will be involved.\n",
    "I'm sure we've all seen.... *questionable* presentations.\n",
    "\n",
    "![gif-powerpoint](https://media1.giphy.com/media/94iS62lx8CRQA/giphy.gif?cid=790b76115ccb171b6b7a426359453df9&rid=giphy.gif)"
   ]
  },
  {
   "cell_type": "markdown",
   "metadata": {},
   "source": [
    "## Learning goals:\n",
    "\n",
    "- Assess a few presentation decks and generate a list of best practices\n",
    "- Practice formating text in markdown\n",
    "- Identify the differences between jupyter notebooks in different stages of analysis\n",
    "- Identify your growth area in presentations and generate a list of steps\n"
   ]
  },
  {
   "cell_type": "markdown",
   "metadata": {},
   "source": [
    "## Goal 1: Presentations and decks\n",
    "\n",
    "For reading on your own time:\n",
    "\n",
    "[Article 1](https://24slides.com/presentbetter/seven-worst-presentations-time-went-wrong/), [Article 2](https://blog.lemonadestand.org/bad-powerpoint-presentations/), [Article 3](https://elearningindustry.com/creating-powerpoint-presentations-5-mistakes-avoid), [Article 4](https://www.makeuseof.com/tag/powerpoint-presentation-mistakes/)"
   ]
  },
  {
   "cell_type": "markdown",
   "metadata": {},
   "source": [
    "### Content vs Style vs Format\n",
    "\n",
    "**Content**:\n",
    "- Does your deck tell a story\n",
    "- Is your story in three parts?\n",
    "- What is your text?\n",
    "- What are your titles?\n",
    "\n",
    "**Style**:\n",
    "\n",
    "![style guide](http://www.creditlenders.info/wp-content/uploads/style-guide-examples-style-guidelines-examples-the-make-shop-inspiration-pinterest.jpg)\n",
    "\n",
    "**Format**:\n",
    "- Grammar\n",
    "- Whitespace\n",
    "- Transitions"
   ]
  },
  {
   "cell_type": "markdown",
   "metadata": {},
   "source": [
    "### Task:\n",
    "\n",
    "Review these two decks: [V1](https://docs.google.com/presentation/d/1Vvnya28jwm7EBWDImB-easLgUZuW3Uj_gJSpTeITYnw/edit?usp=sharing) and [V2](https://docs.google.com/presentation/d/1i2_9VSOeX78UK6EGrUNnI9j4b7PPt_hia_8z1DWYju0/edit?usp=sharing)\n",
    "- Which is \"better\"?\n",
    "- What could be improved in each?"
   ]
  },
  {
   "cell_type": "markdown",
   "metadata": {},
   "source": [
    "## Goal 2: Practice formatting text in markdown\n",
    "\n",
    "***\n",
    "\n",
    "Which of these two is easier to read?\n",
    "\n",
    "[Doc 1](https://github.com/learn-co-students/dc_ds_06_03_19/blob/b59f944911dd153543f8ef44e004e2f9b595b9ed/module_1/week_2/week_5_git_groups_quality_presentations/markdown-test/no-markdown/README.md) vs [Doc 2](https://github.com/learn-co-students/dc_ds_06_03_19/blob/b59f944911dd153543f8ef44e004e2f9b595b9ed/module_1/week_2/week_5_git_groups_quality_presentations/markdown-test/README.md)\n",
    "\n",
    "\n",
    "### Task: update Doc 1 to match the style of Doc 2\n",
    "\n",
    "[markdown cheat sheet](https://guides.github.com/pdfs/markdown-cheatsheet-online.pdf)"
   ]
  },
  {
   "cell_type": "markdown",
   "metadata": {},
   "source": []
  },
  {
   "cell_type": "markdown",
   "metadata": {},
   "source": [
    "## Predicting tomorrow's rainfall in Australia\n",
    "\n",
    "### Executive summary\n",
    "\n",
    "The goal of this analysis is to predict whether it will rain tomorrow in a given city in Australia, based on today's weather. We analyzed a Kaggle dataset of (daily weather data <- bold 'daily weather data' and delete everything else in the parentheses!) collected in 49 Australian cities between 2010 and 2018. The final model had an 83.9% accuracy rate in predicting whether or not it would rain tomorrow vs. a baseline model accuracy of 77.8%. Italicize the sentence before this one and delete this sentence!\n",
    "\n",
    "rainfall_map.png\n",
    "\n",
    "Contents\n",
    "\n",
    "1. Introduction\n",
    "   - Problem statement\n",
    "   - Dataset\n",
    "2. Analysis\n",
    "   - Data cleaning\n",
    "   - Exploratory data analysis\n",
    "   - Modeling\n",
    "   - Metrics\n",
    "- 3. Next steps\n",
    "\n",
    "\n",
    "### Introduction\n",
    "\n",
    "#### Problem statement\n",
    "\n",
    "Our goal is to predict whether or not it will rain tomorrow, in a given city in Australia, based on today's weather, using replicable machine learning techniques. We used two separate modeling techniques (Decision Tree and Random Forest) to create these forecasts.\n",
    "\n",
    "Dataset\n",
    "\n",
    "The analysis is based on this [Kaggle dataset](https://www.kaggle.com/jsphyg/weather-dataset-rattle-package) of daily weather data collected in 49 Australian cities between 2010 and 2018. The dataset consists of 22 numerical and categorical features, and 1 target classification variable.\n",
    "\n",
    "### Analysis\n",
    "\n",
    "#### Data cleaning\n",
    "\n",
    "We had duplicate data, missing values, and impossible values that we had to rectify before proceeding to modeling.\n",
    "\n",
    "Exploratory data analysis\n",
    "\n",
    "We found some signficant correlations in our data that we had to explore further.\n",
    "\n",
    "### Modeling\n",
    "\n",
    "Our analysis used both Decision Tree and Random Forest classifier models.\n",
    "\n",
    "We can create multiline Python code with syntax highlighting:\n",
    "\n",
    "def model():\n",
    "    for kind in models:\n",
    "        start = time.time()\n",
    "        if kind == 'Tree':\n",
    "            model = tree.DecisionTreeClassifier()\n",
    "        else : \n",
    "            model = ensemble.RandomForestClassifier()\n",
    "\n",
    "Metrics\n",
    "\n",
    "We create a confusion matrix to calculate classification metrics using the sklearn.metrics.confusion_matrix() method.\n",
    "\n",
    "Next Steps\n",
    "\n",
    "https://i.imgur.com/3fkDIms.jpg\n"
   ]
  },
  {
   "cell_type": "code",
   "execution_count": 1,
   "metadata": {},
   "outputs": [
    {
     "name": "stdout",
     "output_type": "stream",
     "text": [
      "Collecting jupyter_contrib_nbextensions\n",
      "  Downloading https://files.pythonhosted.org/packages/33/f0/6e2c00afda860f655fbf0f795f7310bdbf12122846344dfdc803fc7455d5/jupyter_contrib_nbextensions-0.5.1-py2.py3-none-any.whl (20.9MB)\n",
      "Collecting jupyter-nbextensions-configurator>=0.4.0 (from jupyter_contrib_nbextensions)\n",
      "  Downloading https://files.pythonhosted.org/packages/51/a3/d72d5f2dc10c5ccf5a6f4c79f636bf071a5ce462dedd07af2f70384db6cb/jupyter_nbextensions_configurator-0.4.1.tar.gz (479kB)\n",
      "Requirement already satisfied: pyyaml in c:\\users\\kwaku\\anaconda3\\lib\\site-packages (from jupyter_contrib_nbextensions) (5.1)\n",
      "Requirement already satisfied: jupyter-core in c:\\users\\kwaku\\anaconda3\\lib\\site-packages (from jupyter_contrib_nbextensions) (4.4.0)\n",
      "Requirement already satisfied: notebook>=4.0 in c:\\users\\kwaku\\anaconda3\\lib\\site-packages (from jupyter_contrib_nbextensions) (5.7.8)\n",
      "Requirement already satisfied: ipython-genutils in c:\\users\\kwaku\\anaconda3\\lib\\site-packages (from jupyter_contrib_nbextensions) (0.2.0)\n",
      "Collecting jupyter-contrib-core>=0.3.3 (from jupyter_contrib_nbextensions)\n",
      "  Downloading https://files.pythonhosted.org/packages/e6/8f/04a752a8b66a66e7092c035e5d87d2502ac7ec07f9fb6059059b6c0dc272/jupyter_contrib_core-0.3.3-py2.py3-none-any.whl\n",
      "Requirement already satisfied: tornado in c:\\users\\kwaku\\anaconda3\\lib\\site-packages (from jupyter_contrib_nbextensions) (6.0.2)\n",
      "Collecting jupyter-highlight-selected-word>=0.1.1 (from jupyter_contrib_nbextensions)\n",
      "  Downloading https://files.pythonhosted.org/packages/50/d7/19ab7cfd60bf268d2abbacc52d4295a40f52d74dfc0d938e4761ee5e598b/jupyter_highlight_selected_word-0.2.0-py2.py3-none-any.whl\n",
      "Collecting jupyter-latex-envs>=1.3.8 (from jupyter_contrib_nbextensions)\n",
      "  Downloading https://files.pythonhosted.org/packages/0e/15/55805de080d5542f76920364635e96e64d3b37f678befdfe3b16aa154205/jupyter_latex_envs-1.4.6.tar.gz (861kB)\n",
      "Requirement already satisfied: nbconvert>=4.2 in c:\\users\\kwaku\\anaconda3\\lib\\site-packages (from jupyter_contrib_nbextensions) (5.4.1)\n",
      "Requirement already satisfied: lxml in c:\\users\\kwaku\\anaconda3\\lib\\site-packages (from jupyter_contrib_nbextensions) (4.3.2)\n",
      "Requirement already satisfied: traitlets>=4.1 in c:\\users\\kwaku\\anaconda3\\lib\\site-packages (from jupyter_contrib_nbextensions) (4.3.2)\n",
      "Requirement already satisfied: pyzmq>=17 in c:\\users\\kwaku\\anaconda3\\lib\\site-packages (from notebook>=4.0->jupyter_contrib_nbextensions) (18.0.0)\n",
      "Requirement already satisfied: Send2Trash in c:\\users\\kwaku\\anaconda3\\lib\\site-packages (from notebook>=4.0->jupyter_contrib_nbextensions) (1.5.0)\n",
      "Requirement already satisfied: prometheus-client in c:\\users\\kwaku\\anaconda3\\lib\\site-packages (from notebook>=4.0->jupyter_contrib_nbextensions) (0.6.0)\n",
      "Requirement already satisfied: jinja2 in c:\\users\\kwaku\\anaconda3\\lib\\site-packages (from notebook>=4.0->jupyter_contrib_nbextensions) (2.10)\n",
      "Requirement already satisfied: ipykernel in c:\\users\\kwaku\\anaconda3\\lib\\site-packages (from notebook>=4.0->jupyter_contrib_nbextensions) (5.1.0)\n",
      "Requirement already satisfied: nbformat in c:\\users\\kwaku\\anaconda3\\lib\\site-packages (from notebook>=4.0->jupyter_contrib_nbextensions) (4.4.0)\n",
      "Requirement already satisfied: jupyter-client>=5.2.0 in c:\\users\\kwaku\\anaconda3\\lib\\site-packages (from notebook>=4.0->jupyter_contrib_nbextensions) (5.2.4)\n",
      "Requirement already satisfied: terminado>=0.8.1 in c:\\users\\kwaku\\anaconda3\\lib\\site-packages (from notebook>=4.0->jupyter_contrib_nbextensions) (0.8.1)\n",
      "Requirement already satisfied: setuptools in c:\\users\\kwaku\\anaconda3\\lib\\site-packages (from jupyter-contrib-core>=0.3.3->jupyter_contrib_nbextensions) (40.8.0)\n",
      "Requirement already satisfied: ipython in c:\\users\\kwaku\\anaconda3\\lib\\site-packages (from jupyter-latex-envs>=1.3.8->jupyter_contrib_nbextensions) (7.4.0)\n",
      "Requirement already satisfied: mistune>=0.8.1 in c:\\users\\kwaku\\anaconda3\\lib\\site-packages (from nbconvert>=4.2->jupyter_contrib_nbextensions) (0.8.4)\n",
      "Requirement already satisfied: pygments in c:\\users\\kwaku\\anaconda3\\lib\\site-packages (from nbconvert>=4.2->jupyter_contrib_nbextensions) (2.3.1)\n",
      "Requirement already satisfied: entrypoints>=0.2.2 in c:\\users\\kwaku\\anaconda3\\lib\\site-packages (from nbconvert>=4.2->jupyter_contrib_nbextensions) (0.3)\n",
      "Requirement already satisfied: bleach in c:\\users\\kwaku\\anaconda3\\lib\\site-packages (from nbconvert>=4.2->jupyter_contrib_nbextensions) (3.1.0)\n",
      "Requirement already satisfied: pandocfilters>=1.4.1 in c:\\users\\kwaku\\anaconda3\\lib\\site-packages (from nbconvert>=4.2->jupyter_contrib_nbextensions) (1.4.2)\n",
      "Requirement already satisfied: testpath in c:\\users\\kwaku\\anaconda3\\lib\\site-packages (from nbconvert>=4.2->jupyter_contrib_nbextensions) (0.4.2)\n",
      "Requirement already satisfied: defusedxml in c:\\users\\kwaku\\anaconda3\\lib\\site-packages (from nbconvert>=4.2->jupyter_contrib_nbextensions) (0.5.0)\n",
      "Requirement already satisfied: six in c:\\users\\kwaku\\anaconda3\\lib\\site-packages (from traitlets>=4.1->jupyter_contrib_nbextensions) (1.12.0)\n",
      "Requirement already satisfied: decorator in c:\\users\\kwaku\\anaconda3\\lib\\site-packages (from traitlets>=4.1->jupyter_contrib_nbextensions) (4.4.0)\n",
      "Requirement already satisfied: MarkupSafe>=0.23 in c:\\users\\kwaku\\anaconda3\\lib\\site-packages (from jinja2->notebook>=4.0->jupyter_contrib_nbextensions) (1.1.1)\n",
      "Requirement already satisfied: jsonschema!=2.5.0,>=2.4 in c:\\users\\kwaku\\anaconda3\\lib\\site-packages (from nbformat->notebook>=4.0->jupyter_contrib_nbextensions) (3.0.1)\n",
      "Requirement already satisfied: python-dateutil>=2.1 in c:\\users\\kwaku\\anaconda3\\lib\\site-packages (from jupyter-client>=5.2.0->notebook>=4.0->jupyter_contrib_nbextensions) (2.8.0)\n",
      "Requirement already satisfied: backcall in c:\\users\\kwaku\\anaconda3\\lib\\site-packages (from ipython->jupyter-latex-envs>=1.3.8->jupyter_contrib_nbextensions) (0.1.0)\n",
      "Requirement already satisfied: pickleshare in c:\\users\\kwaku\\anaconda3\\lib\\site-packages (from ipython->jupyter-latex-envs>=1.3.8->jupyter_contrib_nbextensions) (0.7.5)\n",
      "Requirement already satisfied: jedi>=0.10 in c:\\users\\kwaku\\anaconda3\\lib\\site-packages (from ipython->jupyter-latex-envs>=1.3.8->jupyter_contrib_nbextensions) (0.13.3)\n",
      "Requirement already satisfied: colorama; sys_platform == \"win32\" in c:\\users\\kwaku\\anaconda3\\lib\\site-packages (from ipython->jupyter-latex-envs>=1.3.8->jupyter_contrib_nbextensions) (0.4.1)\n",
      "Requirement already satisfied: prompt-toolkit<2.1.0,>=2.0.0 in c:\\users\\kwaku\\anaconda3\\lib\\site-packages (from ipython->jupyter-latex-envs>=1.3.8->jupyter_contrib_nbextensions) (2.0.9)\n",
      "Requirement already satisfied: webencodings in c:\\users\\kwaku\\anaconda3\\lib\\site-packages (from bleach->nbconvert>=4.2->jupyter_contrib_nbextensions) (0.5.1)\n",
      "Requirement already satisfied: attrs>=17.4.0 in c:\\users\\kwaku\\anaconda3\\lib\\site-packages (from jsonschema!=2.5.0,>=2.4->nbformat->notebook>=4.0->jupyter_contrib_nbextensions) (19.1.0)\n",
      "Requirement already satisfied: pyrsistent>=0.14.0 in c:\\users\\kwaku\\anaconda3\\lib\\site-packages (from jsonschema!=2.5.0,>=2.4->nbformat->notebook>=4.0->jupyter_contrib_nbextensions) (0.14.11)\n",
      "Requirement already satisfied: parso>=0.3.0 in c:\\users\\kwaku\\anaconda3\\lib\\site-packages (from jedi>=0.10->ipython->jupyter-latex-envs>=1.3.8->jupyter_contrib_nbextensions) (0.3.4)\n",
      "Requirement already satisfied: wcwidth in c:\\users\\kwaku\\anaconda3\\lib\\site-packages (from prompt-toolkit<2.1.0,>=2.0.0->ipython->jupyter-latex-envs>=1.3.8->jupyter_contrib_nbextensions) (0.1.7)\n",
      "Building wheels for collected packages: jupyter-nbextensions-configurator, jupyter-latex-envs\n",
      "  Building wheel for jupyter-nbextensions-configurator (setup.py): started\n",
      "  Building wheel for jupyter-nbextensions-configurator (setup.py): finished with status 'done'\n",
      "  Stored in directory: C:\\Users\\kwaku\\AppData\\Local\\pip\\Cache\\wheels\\15\\df\\fe\\2a74fe34709e7fdc5ae153a768675d9fda93cc7d5133ed1fb0\n",
      "  Building wheel for jupyter-latex-envs (setup.py): started\n",
      "  Building wheel for jupyter-latex-envs (setup.py): finished with status 'done'\n",
      "  Stored in directory: C:\\Users\\kwaku\\AppData\\Local\\pip\\Cache\\wheels\\0d\\71\\2a\\164491997299b9f2479a251e254323fe35d946779e18f27956\n",
      "Successfully built jupyter-nbextensions-configurator jupyter-latex-envs\n",
      "Installing collected packages: jupyter-contrib-core, jupyter-nbextensions-configurator, jupyter-highlight-selected-word, jupyter-latex-envs, jupyter-contrib-nbextensions\n",
      "Successfully installed jupyter-contrib-core-0.3.3 jupyter-contrib-nbextensions-0.5.1 jupyter-highlight-selected-word-0.2.0 jupyter-latex-envs-1.4.6 jupyter-nbextensions-configurator-0.4.1\n",
      "Note: you may need to restart the kernel to use updated packages.\n"
     ]
    }
   ],
   "source": [
    "pip install jupyter_contrib_nbextensions"
   ]
  },
  {
   "cell_type": "code",
   "execution_count": null,
   "metadata": {},
   "outputs": [],
   "source": [
    "jupyter nbextension enable"
   ]
  },
  {
   "cell_type": "markdown",
   "metadata": {},
   "source": [
    "## Goal 3: Identify the differences between jupyter notebooks in different stages of analysis\n",
    "\n",
    "When you write a paper or a report, what version do you share with your boss or your audience? Does it look different than when you started?\n",
    "\n",
    "### Task: order notebooks\n",
    "- We have three notebooks\n",
    "  - V1_Australia_rain.ipynb\n",
    "  - V2_Australia_rain.ipynb\n",
    "  - V3_Australia_rain.ipynb\n",
    "- Note their differences and similarities\n",
    "- Please review them and rank them from lowest to highest\n",
    "  - 1 being just for your eyes\n",
    "  - 3 being for a wider audience\n"
   ]
  },
  {
   "cell_type": "markdown",
   "metadata": {},
   "source": [
    "## Integration:\n",
    "Integration will happen and be demonstrated during your presentations and over the next few weeks. This is a growth curve for most. We want you to have a *quality* presentation.\n",
    "\n",
    "![baby](https://media2.giphy.com/media/l0HeqCXn1qjs8dqKs/giphy.gif?cid=790b76115ccb226549494475368e0b72&rid=giphy.gif)"
   ]
  },
  {
   "cell_type": "markdown",
   "metadata": {},
   "source": [
    "## Reflection:\n",
    "\n",
    "- What's the one area you see in yourself that will need the most focus, where you will be experiencing the most growth?\n"
   ]
  }
 ],
 "metadata": {
  "kernelspec": {
   "display_name": "Python 3",
   "language": "python",
   "name": "python3"
  },
  "language_info": {
   "codemirror_mode": {
    "name": "ipython",
    "version": 3
   },
   "file_extension": ".py",
   "mimetype": "text/x-python",
   "name": "python",
   "nbconvert_exporter": "python",
   "pygments_lexer": "ipython3",
   "version": "3.7.3"
  }
 },
 "nbformat": 4,
 "nbformat_minor": 2
}
