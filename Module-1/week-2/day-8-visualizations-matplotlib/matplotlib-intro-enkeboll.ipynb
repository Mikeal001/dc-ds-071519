{
 "cells": [
  {
   "cell_type": "markdown",
   "metadata": {},
   "source": [
    "![matplotlib](https://matplotlib.org/_static/logo2.png)\n",
    "# Data Visualization with Matplotlib\n",
    "\n",
    "\n",
    "### Scenario:\n",
    "![pups](shelter-pups.jpeg)\n",
    "It's back to our animal shelter data!!! \n",
    "\n",
    "If you do not have the dataset clean and ready from the last exercise, we have a few functions to help later in the lesson.\n",
    "\n",
    "While it is nice to have summary tables, visualizations are also great. We want a few visualizations to explore animal shelter demographics.\n",
    "\n",
    "\n",
    "### Activation: Why is visualization important?\n",
    "\n",
    "\n",
    "There are a lot of visualizations out there these days.\n",
    "\n",
    "Ultimately they are about quickly revealing relationships and anomolies.\n",
    "\n",
    "While we will review what makes a **GOOD** visualization later, we will cover a few basic types today.  \n",
    "\n",
    "\n",
    "### Learning Goals:\n",
    "\n",
    "After today, you will be able to:\n",
    "\n",
    "- Explain and understand different types plots and their use cases\n",
    "- Identify and adjust the anatomy of a matplotlib plot\n",
    "- Explain the difference between plot types and justify their use cases:\n",
    "    - barplots\n",
    "    - histogram\n",
    "    - scatter plot\n",
    "    - pie char\n",
    "- Visualize data using the matplotlib library in python \n",
    "\n",
    "\n",
    "### Step 1: Types of plots\n",
    "\n",
    "Before we start creating, let's take a look at some [types](https://datavizproject.com/) of visualizations.\n",
    "\n",
    "If you had to break these up into subgroups that fulfill a certain purpose, how would you break them up? Talk with your neighbors.\n",
    "\n",
    "\n",
    "Let's look at some [examples from python graphs](https://python-graph-gallery.com/)\n",
    "\n",
    "The Matplotlib plotting library provides a range of built in functions to start visualizing data with minimum effort. Let's import the module pyplot in matplotlib as well as numpy to generate some sample data before creating plots from our animal shelter data."
   ]
  },
  {
   "cell_type": "markdown",
   "metadata": {},
   "source": [
    "### Please follow the instructions below to ensure your dataset for this lesson is in top shape\n",
    "1. Copy the code from the `intake`, `outcomes`, and `merge` `.py` files and paste them into code cells into this workbook\n",
    "2. examine the steps taken to transform and clean the code\n",
    "3. Run intake, then outcomes, then the merge file in the code cells\n",
    "4. Check the `.head()` of the new dataset\n",
    " "
   ]
  },
  {
   "cell_type": "code",
   "execution_count": 48,
   "metadata": {},
   "outputs": [],
   "source": [
    "import intake_data\n",
    "import outcome_data\n",
    "import merge_datasets"
   ]
  },
  {
   "cell_type": "code",
   "execution_count": 49,
   "metadata": {
    "scrolled": false
   },
   "outputs": [
    {
     "name": "stderr",
     "output_type": "stream",
     "text": [
      "C:\\Users\\kwaku\\Flatiron_Course\\dc-ds-071519\\Module-1\\week-2\\day-8-visualizations-matplotlib\\intake_data.py:30: SettingWithCopyWarning: \n",
      "A value is trying to be set on a copy of a slice from a DataFrame.\n",
      "Try using .loc[row_indexer,col_indexer] = value instead\n",
      "\n",
      "See the caveats in the documentation: http://pandas.pydata.org/pandas-docs/stable/indexing.html#indexing-view-versus-copy\n",
      "  intake_data['i_date']=intake_data['i_date'].map(lambda x: x[:10])\n",
      "C:\\Users\\kwaku\\Flatiron_Course\\dc-ds-071519\\Module-1\\week-2\\day-8-visualizations-matplotlib\\intake_data.py:31: SettingWithCopyWarning: \n",
      "A value is trying to be set on a copy of a slice from a DataFrame.\n",
      "Try using .loc[row_indexer,col_indexer] = value instead\n",
      "\n",
      "See the caveats in the documentation: http://pandas.pydata.org/pandas-docs/stable/indexing.html#indexing-view-versus-copy\n",
      "  intake_data['i_date'] =  pd.to_datetime(intake_data['i_date'], format='%m/%d/%Y', errors = 'ignore')\n",
      "C:\\Users\\kwaku\\Flatiron_Course\\dc-ds-071519\\Module-1\\week-2\\day-8-visualizations-matplotlib\\intake_data.py:34: SettingWithCopyWarning: \n",
      "A value is trying to be set on a copy of a slice from a DataFrame.\n",
      "Try using .loc[row_indexer,col_indexer] = value instead\n",
      "\n",
      "See the caveats in the documentation: http://pandas.pydata.org/pandas-docs/stable/indexing.html#indexing-view-versus-copy\n",
      "  intake_data['i_month'] = intake_data['i_date'].map(lambda x: x.month)\n",
      "C:\\Users\\kwaku\\Flatiron_Course\\dc-ds-071519\\Module-1\\week-2\\day-8-visualizations-matplotlib\\intake_data.py:35: SettingWithCopyWarning: \n",
      "A value is trying to be set on a copy of a slice from a DataFrame.\n",
      "Try using .loc[row_indexer,col_indexer] = value instead\n",
      "\n",
      "See the caveats in the documentation: http://pandas.pydata.org/pandas-docs/stable/indexing.html#indexing-view-versus-copy\n",
      "  intake_data['year'] = intake_data['i_date'].map(lambda x: x.year)\n",
      "C:\\Users\\kwaku\\Flatiron_Course\\dc-ds-071519\\Module-1\\week-2\\day-8-visualizations-matplotlib\\intake_data.py:36: SettingWithCopyWarning: \n",
      "A value is trying to be set on a copy of a slice from a DataFrame.\n",
      "Try using .loc[row_indexer,col_indexer] = value instead\n",
      "\n",
      "See the caveats in the documentation: http://pandas.pydata.org/pandas-docs/stable/indexing.html#indexing-view-versus-copy\n",
      "  intake_data['i_weekday'] = intake_data['i_date'].map(lambda x: x.weekday())\n"
     ]
    }
   ],
   "source": [
    "intake_dataset = intake_data.process_intake_data()"
   ]
  },
  {
   "cell_type": "code",
   "execution_count": 50,
   "metadata": {},
   "outputs": [],
   "source": [
    "outcome_dataset= outcome_data.process_outcome_data()"
   ]
  },
  {
   "cell_type": "code",
   "execution_count": 51,
   "metadata": {},
   "outputs": [],
   "source": [
    "merge_datasets=merge_datasets.merge_intake_outcomes(intake_dataset, outcome_dataset)"
   ]
  },
  {
   "cell_type": "code",
   "execution_count": 52,
   "metadata": {},
   "outputs": [
    {
     "data": {
      "text/html": [
       "<div>\n",
       "<style scoped>\n",
       "    .dataframe tbody tr th:only-of-type {\n",
       "        vertical-align: middle;\n",
       "    }\n",
       "\n",
       "    .dataframe tbody tr th {\n",
       "        vertical-align: top;\n",
       "    }\n",
       "\n",
       "    .dataframe thead th {\n",
       "        text-align: right;\n",
       "    }\n",
       "</style>\n",
       "<table border=\"1\" class=\"dataframe\">\n",
       "  <thead>\n",
       "    <tr style=\"text-align: right;\">\n",
       "      <th></th>\n",
       "      <th>id</th>\n",
       "      <th>type</th>\n",
       "      <th>i_date</th>\n",
       "      <th>sex</th>\n",
       "      <th>i_month</th>\n",
       "      <th>year</th>\n",
       "      <th>i_weekday</th>\n",
       "      <th>gender</th>\n",
       "      <th>i_altered</th>\n",
       "      <th>name</th>\n",
       "      <th>outcome</th>\n",
       "      <th>outcome_s</th>\n",
       "      <th>animal</th>\n",
       "      <th>breed</th>\n",
       "      <th>o_date</th>\n",
       "      <th>years_old</th>\n",
       "      <th>o_month</th>\n",
       "      <th>o_weekday</th>\n",
       "      <th>o_altered</th>\n",
       "      <th>days_in_shelter</th>\n",
       "    </tr>\n",
       "  </thead>\n",
       "  <tbody>\n",
       "    <tr>\n",
       "      <th>5</th>\n",
       "      <td>A800582</td>\n",
       "      <td>Dog</td>\n",
       "      <td>2019-07-23</td>\n",
       "      <td>Intact Male</td>\n",
       "      <td>7</td>\n",
       "      <td>2019</td>\n",
       "      <td>1</td>\n",
       "      <td>Male</td>\n",
       "      <td>Intact</td>\n",
       "      <td>Phoenix</td>\n",
       "      <td>Return to Owner</td>\n",
       "      <td>NaN</td>\n",
       "      <td>Dog</td>\n",
       "      <td>Pit Bull</td>\n",
       "      <td>2019-07-24</td>\n",
       "      <td>5.002740</td>\n",
       "      <td>7.0</td>\n",
       "      <td>2.0</td>\n",
       "      <td>Intact</td>\n",
       "      <td>1</td>\n",
       "    </tr>\n",
       "    <tr>\n",
       "      <th>7</th>\n",
       "      <td>A800577</td>\n",
       "      <td>Dog</td>\n",
       "      <td>2019-07-23</td>\n",
       "      <td>Intact Male</td>\n",
       "      <td>7</td>\n",
       "      <td>2019</td>\n",
       "      <td>1</td>\n",
       "      <td>Male</td>\n",
       "      <td>Intact</td>\n",
       "      <td>Spike</td>\n",
       "      <td>Return to Owner</td>\n",
       "      <td>NaN</td>\n",
       "      <td>Dog</td>\n",
       "      <td>Labrador Retriever/Beagle</td>\n",
       "      <td>2019-07-24</td>\n",
       "      <td>3.002740</td>\n",
       "      <td>7.0</td>\n",
       "      <td>2.0</td>\n",
       "      <td>Intact</td>\n",
       "      <td>1</td>\n",
       "    </tr>\n",
       "    <tr>\n",
       "      <th>20</th>\n",
       "      <td>A800561</td>\n",
       "      <td>Dog</td>\n",
       "      <td>2019-07-23</td>\n",
       "      <td>Neutered Male</td>\n",
       "      <td>7</td>\n",
       "      <td>2019</td>\n",
       "      <td>1</td>\n",
       "      <td>Male</td>\n",
       "      <td>Neutered</td>\n",
       "      <td>Batman</td>\n",
       "      <td>Return to Owner</td>\n",
       "      <td>NaN</td>\n",
       "      <td>Dog</td>\n",
       "      <td>Miniature Pinscher Mix</td>\n",
       "      <td>2019-07-24</td>\n",
       "      <td>6.005479</td>\n",
       "      <td>7.0</td>\n",
       "      <td>2.0</td>\n",
       "      <td>Neutered</td>\n",
       "      <td>1</td>\n",
       "    </tr>\n",
       "    <tr>\n",
       "      <th>25</th>\n",
       "      <td>A800529</td>\n",
       "      <td>Dog</td>\n",
       "      <td>2019-07-22</td>\n",
       "      <td>Intact Male</td>\n",
       "      <td>7</td>\n",
       "      <td>2019</td>\n",
       "      <td>0</td>\n",
       "      <td>Male</td>\n",
       "      <td>Intact</td>\n",
       "      <td>Charito</td>\n",
       "      <td>Transfer</td>\n",
       "      <td>Partner</td>\n",
       "      <td>Dog</td>\n",
       "      <td>Chihuahua Shorthair</td>\n",
       "      <td>2019-07-23</td>\n",
       "      <td>0.498630</td>\n",
       "      <td>7.0</td>\n",
       "      <td>1.0</td>\n",
       "      <td>Intact</td>\n",
       "      <td>1</td>\n",
       "    </tr>\n",
       "    <tr>\n",
       "      <th>27</th>\n",
       "      <td>A797734</td>\n",
       "      <td>Dog</td>\n",
       "      <td>2019-07-22</td>\n",
       "      <td>Intact Male</td>\n",
       "      <td>7</td>\n",
       "      <td>2019</td>\n",
       "      <td>0</td>\n",
       "      <td>Male</td>\n",
       "      <td>Intact</td>\n",
       "      <td>Spike</td>\n",
       "      <td>Return to Owner</td>\n",
       "      <td>NaN</td>\n",
       "      <td>Dog</td>\n",
       "      <td>Pit Bull Mix</td>\n",
       "      <td>2019-07-23</td>\n",
       "      <td>1.016438</td>\n",
       "      <td>7.0</td>\n",
       "      <td>1.0</td>\n",
       "      <td>Intact</td>\n",
       "      <td>1</td>\n",
       "    </tr>\n",
       "  </tbody>\n",
       "</table>\n",
       "</div>"
      ],
      "text/plain": [
       "         id type     i_date            sex  i_month  year  i_weekday gender  \\\n",
       "5   A800582  Dog 2019-07-23    Intact Male        7  2019          1   Male   \n",
       "7   A800577  Dog 2019-07-23    Intact Male        7  2019          1   Male   \n",
       "20  A800561  Dog 2019-07-23  Neutered Male        7  2019          1   Male   \n",
       "25  A800529  Dog 2019-07-22    Intact Male        7  2019          0   Male   \n",
       "27  A797734  Dog 2019-07-22    Intact Male        7  2019          0   Male   \n",
       "\n",
       "   i_altered     name          outcome outcome_s animal  \\\n",
       "5     Intact  Phoenix  Return to Owner       NaN    Dog   \n",
       "7     Intact    Spike  Return to Owner       NaN    Dog   \n",
       "20  Neutered   Batman  Return to Owner       NaN    Dog   \n",
       "25    Intact  Charito         Transfer   Partner    Dog   \n",
       "27    Intact    Spike  Return to Owner       NaN    Dog   \n",
       "\n",
       "                        breed     o_date  years_old  o_month  o_weekday  \\\n",
       "5                    Pit Bull 2019-07-24   5.002740      7.0        2.0   \n",
       "7   Labrador Retriever/Beagle 2019-07-24   3.002740      7.0        2.0   \n",
       "20     Miniature Pinscher Mix 2019-07-24   6.005479      7.0        2.0   \n",
       "25        Chihuahua Shorthair 2019-07-23   0.498630      7.0        1.0   \n",
       "27               Pit Bull Mix 2019-07-23   1.016438      7.0        1.0   \n",
       "\n",
       "   o_altered  days_in_shelter  \n",
       "5     Intact                1  \n",
       "7     Intact                1  \n",
       "20  Neutered                1  \n",
       "25    Intact                1  \n",
       "27    Intact                1  "
      ]
     },
     "execution_count": 52,
     "metadata": {},
     "output_type": "execute_result"
    }
   ],
   "source": [
    "merge_datasets.head()"
   ]
  },
  {
   "cell_type": "code",
   "execution_count": 53,
   "metadata": {},
   "outputs": [],
   "source": [
    "animal_shelter_df= merge_datasets"
   ]
  },
  {
   "cell_type": "code",
   "execution_count": 54,
   "metadata": {},
   "outputs": [
    {
     "data": {
      "text/html": [
       "<div>\n",
       "<style scoped>\n",
       "    .dataframe tbody tr th:only-of-type {\n",
       "        vertical-align: middle;\n",
       "    }\n",
       "\n",
       "    .dataframe tbody tr th {\n",
       "        vertical-align: top;\n",
       "    }\n",
       "\n",
       "    .dataframe thead th {\n",
       "        text-align: right;\n",
       "    }\n",
       "</style>\n",
       "<table border=\"1\" class=\"dataframe\">\n",
       "  <thead>\n",
       "    <tr style=\"text-align: right;\">\n",
       "      <th></th>\n",
       "      <th>id</th>\n",
       "      <th>type</th>\n",
       "      <th>i_date</th>\n",
       "      <th>sex</th>\n",
       "      <th>i_month</th>\n",
       "      <th>year</th>\n",
       "      <th>i_weekday</th>\n",
       "      <th>gender</th>\n",
       "      <th>i_altered</th>\n",
       "      <th>name</th>\n",
       "      <th>outcome</th>\n",
       "      <th>outcome_s</th>\n",
       "      <th>animal</th>\n",
       "      <th>breed</th>\n",
       "      <th>o_date</th>\n",
       "      <th>years_old</th>\n",
       "      <th>o_month</th>\n",
       "      <th>o_weekday</th>\n",
       "      <th>o_altered</th>\n",
       "      <th>days_in_shelter</th>\n",
       "    </tr>\n",
       "  </thead>\n",
       "  <tbody>\n",
       "    <tr>\n",
       "      <th>5</th>\n",
       "      <td>A800582</td>\n",
       "      <td>Dog</td>\n",
       "      <td>2019-07-23</td>\n",
       "      <td>Intact Male</td>\n",
       "      <td>7</td>\n",
       "      <td>2019</td>\n",
       "      <td>1</td>\n",
       "      <td>Male</td>\n",
       "      <td>Intact</td>\n",
       "      <td>Phoenix</td>\n",
       "      <td>Return to Owner</td>\n",
       "      <td>NaN</td>\n",
       "      <td>Dog</td>\n",
       "      <td>Pit Bull</td>\n",
       "      <td>2019-07-24</td>\n",
       "      <td>5.002740</td>\n",
       "      <td>7.0</td>\n",
       "      <td>2.0</td>\n",
       "      <td>Intact</td>\n",
       "      <td>1</td>\n",
       "    </tr>\n",
       "    <tr>\n",
       "      <th>7</th>\n",
       "      <td>A800577</td>\n",
       "      <td>Dog</td>\n",
       "      <td>2019-07-23</td>\n",
       "      <td>Intact Male</td>\n",
       "      <td>7</td>\n",
       "      <td>2019</td>\n",
       "      <td>1</td>\n",
       "      <td>Male</td>\n",
       "      <td>Intact</td>\n",
       "      <td>Spike</td>\n",
       "      <td>Return to Owner</td>\n",
       "      <td>NaN</td>\n",
       "      <td>Dog</td>\n",
       "      <td>Labrador Retriever/Beagle</td>\n",
       "      <td>2019-07-24</td>\n",
       "      <td>3.002740</td>\n",
       "      <td>7.0</td>\n",
       "      <td>2.0</td>\n",
       "      <td>Intact</td>\n",
       "      <td>1</td>\n",
       "    </tr>\n",
       "    <tr>\n",
       "      <th>20</th>\n",
       "      <td>A800561</td>\n",
       "      <td>Dog</td>\n",
       "      <td>2019-07-23</td>\n",
       "      <td>Neutered Male</td>\n",
       "      <td>7</td>\n",
       "      <td>2019</td>\n",
       "      <td>1</td>\n",
       "      <td>Male</td>\n",
       "      <td>Neutered</td>\n",
       "      <td>Batman</td>\n",
       "      <td>Return to Owner</td>\n",
       "      <td>NaN</td>\n",
       "      <td>Dog</td>\n",
       "      <td>Miniature Pinscher Mix</td>\n",
       "      <td>2019-07-24</td>\n",
       "      <td>6.005479</td>\n",
       "      <td>7.0</td>\n",
       "      <td>2.0</td>\n",
       "      <td>Neutered</td>\n",
       "      <td>1</td>\n",
       "    </tr>\n",
       "    <tr>\n",
       "      <th>25</th>\n",
       "      <td>A800529</td>\n",
       "      <td>Dog</td>\n",
       "      <td>2019-07-22</td>\n",
       "      <td>Intact Male</td>\n",
       "      <td>7</td>\n",
       "      <td>2019</td>\n",
       "      <td>0</td>\n",
       "      <td>Male</td>\n",
       "      <td>Intact</td>\n",
       "      <td>Charito</td>\n",
       "      <td>Transfer</td>\n",
       "      <td>Partner</td>\n",
       "      <td>Dog</td>\n",
       "      <td>Chihuahua Shorthair</td>\n",
       "      <td>2019-07-23</td>\n",
       "      <td>0.498630</td>\n",
       "      <td>7.0</td>\n",
       "      <td>1.0</td>\n",
       "      <td>Intact</td>\n",
       "      <td>1</td>\n",
       "    </tr>\n",
       "    <tr>\n",
       "      <th>27</th>\n",
       "      <td>A797734</td>\n",
       "      <td>Dog</td>\n",
       "      <td>2019-07-22</td>\n",
       "      <td>Intact Male</td>\n",
       "      <td>7</td>\n",
       "      <td>2019</td>\n",
       "      <td>0</td>\n",
       "      <td>Male</td>\n",
       "      <td>Intact</td>\n",
       "      <td>Spike</td>\n",
       "      <td>Return to Owner</td>\n",
       "      <td>NaN</td>\n",
       "      <td>Dog</td>\n",
       "      <td>Pit Bull Mix</td>\n",
       "      <td>2019-07-23</td>\n",
       "      <td>1.016438</td>\n",
       "      <td>7.0</td>\n",
       "      <td>1.0</td>\n",
       "      <td>Intact</td>\n",
       "      <td>1</td>\n",
       "    </tr>\n",
       "  </tbody>\n",
       "</table>\n",
       "</div>"
      ],
      "text/plain": [
       "         id type     i_date            sex  i_month  year  i_weekday gender  \\\n",
       "5   A800582  Dog 2019-07-23    Intact Male        7  2019          1   Male   \n",
       "7   A800577  Dog 2019-07-23    Intact Male        7  2019          1   Male   \n",
       "20  A800561  Dog 2019-07-23  Neutered Male        7  2019          1   Male   \n",
       "25  A800529  Dog 2019-07-22    Intact Male        7  2019          0   Male   \n",
       "27  A797734  Dog 2019-07-22    Intact Male        7  2019          0   Male   \n",
       "\n",
       "   i_altered     name          outcome outcome_s animal  \\\n",
       "5     Intact  Phoenix  Return to Owner       NaN    Dog   \n",
       "7     Intact    Spike  Return to Owner       NaN    Dog   \n",
       "20  Neutered   Batman  Return to Owner       NaN    Dog   \n",
       "25    Intact  Charito         Transfer   Partner    Dog   \n",
       "27    Intact    Spike  Return to Owner       NaN    Dog   \n",
       "\n",
       "                        breed     o_date  years_old  o_month  o_weekday  \\\n",
       "5                    Pit Bull 2019-07-24   5.002740      7.0        2.0   \n",
       "7   Labrador Retriever/Beagle 2019-07-24   3.002740      7.0        2.0   \n",
       "20     Miniature Pinscher Mix 2019-07-24   6.005479      7.0        2.0   \n",
       "25        Chihuahua Shorthair 2019-07-23   0.498630      7.0        1.0   \n",
       "27               Pit Bull Mix 2019-07-23   1.016438      7.0        1.0   \n",
       "\n",
       "   o_altered  days_in_shelter  \n",
       "5     Intact                1  \n",
       "7     Intact                1  \n",
       "20  Neutered                1  \n",
       "25    Intact                1  \n",
       "27    Intact                1  "
      ]
     },
     "execution_count": 54,
     "metadata": {},
     "output_type": "execute_result"
    }
   ],
   "source": [
    "animal_shelter_df.head()"
   ]
  },
  {
   "cell_type": "code",
   "execution_count": 55,
   "metadata": {},
   "outputs": [
    {
     "name": "stderr",
     "output_type": "stream",
     "text": [
      "C:\\Users\\kwaku\\Anaconda3\\lib\\site-packages\\ipykernel_launcher.py:17: SettingWithCopyWarning: \n",
      "A value is trying to be set on a copy of a slice from a DataFrame.\n",
      "Try using .loc[row_indexer,col_indexer] = value instead\n",
      "\n",
      "See the caveats in the documentation: http://pandas.pydata.org/pandas-docs/stable/indexing.html#indexing-view-versus-copy\n",
      "C:\\Users\\kwaku\\Anaconda3\\lib\\site-packages\\ipykernel_launcher.py:18: SettingWithCopyWarning: \n",
      "A value is trying to be set on a copy of a slice from a DataFrame.\n",
      "Try using .loc[row_indexer,col_indexer] = value instead\n",
      "\n",
      "See the caveats in the documentation: http://pandas.pydata.org/pandas-docs/stable/indexing.html#indexing-view-versus-copy\n",
      "C:\\Users\\kwaku\\Anaconda3\\lib\\site-packages\\ipykernel_launcher.py:21: SettingWithCopyWarning: \n",
      "A value is trying to be set on a copy of a slice from a DataFrame.\n",
      "Try using .loc[row_indexer,col_indexer] = value instead\n",
      "\n",
      "See the caveats in the documentation: http://pandas.pydata.org/pandas-docs/stable/indexing.html#indexing-view-versus-copy\n",
      "C:\\Users\\kwaku\\Anaconda3\\lib\\site-packages\\ipykernel_launcher.py:22: SettingWithCopyWarning: \n",
      "A value is trying to be set on a copy of a slice from a DataFrame.\n",
      "Try using .loc[row_indexer,col_indexer] = value instead\n",
      "\n",
      "See the caveats in the documentation: http://pandas.pydata.org/pandas-docs/stable/indexing.html#indexing-view-versus-copy\n",
      "C:\\Users\\kwaku\\Anaconda3\\lib\\site-packages\\ipykernel_launcher.py:23: SettingWithCopyWarning: \n",
      "A value is trying to be set on a copy of a slice from a DataFrame.\n",
      "Try using .loc[row_indexer,col_indexer] = value instead\n",
      "\n",
      "See the caveats in the documentation: http://pandas.pydata.org/pandas-docs/stable/indexing.html#indexing-view-versus-copy\n"
     ]
    }
   ],
   "source": [
    "import pandas as pd\n",
    "\n",
    "# read in some data\n",
    "intakes = pd.read_csv('https://data.austintexas.gov/api/views/wter-evkm/rows.csv?accessType=DOWNLOAD')\n",
    "\n",
    "# rename columns\n",
    "new_names = ['id', 'name', 'i_date', 'monthyear', 'found_loc', 'intake_type', 'intake_con', 'type', 'sex', 'age', 'breed', 'color']\n",
    "intakes.columns = new_names\n",
    "\n",
    "# drop NaNs\n",
    "intakes.dropna(inplace=True)\n",
    "\n",
    "# keep only a few columns\n",
    "intake_data = intakes[['id','type', 'i_date', 'sex']]\n",
    "\n",
    "# Clean code\n",
    "intake_data['i_date']=intake_data['i_date'].map(lambda x: x[:10])\n",
    "intake_data['i_date'] =  pd.to_datetime(intake_data['i_date'], format='%m/%d/%Y', errors = 'ignore')\n",
    "\n",
    "# get more date info\n",
    "intake_data['i_month'] = intake_data['i_date'].map(lambda x: x.month)\n",
    "intake_data['year'] = intake_data['i_date'].map(lambda x: x.year)\n",
    "intake_data['i_weekday'] = intake_data['i_date'].map(lambda x: x.weekday())\n",
    "\n",
    "# drop \"unknown\" gender\n",
    "intake_data = intake_data[intake_data.sex != 'Unknown']\n",
    "\n",
    "# get sex variablle split\n",
    "intake_data['gender']= intake_data['sex'].str.split(\" \").str[1]\n",
    "intake_data['i_altered']= intake_data['sex'].str.split(\" \").str[0]"
   ]
  },
  {
   "cell_type": "code",
   "execution_count": 56,
   "metadata": {},
   "outputs": [
    {
     "data": {
      "text/html": [
       "<div>\n",
       "<style scoped>\n",
       "    .dataframe tbody tr th:only-of-type {\n",
       "        vertical-align: middle;\n",
       "    }\n",
       "\n",
       "    .dataframe tbody tr th {\n",
       "        vertical-align: top;\n",
       "    }\n",
       "\n",
       "    .dataframe thead th {\n",
       "        text-align: right;\n",
       "    }\n",
       "</style>\n",
       "<table border=\"1\" class=\"dataframe\">\n",
       "  <thead>\n",
       "    <tr style=\"text-align: right;\">\n",
       "      <th></th>\n",
       "      <th>id</th>\n",
       "      <th>name</th>\n",
       "      <th>outcome</th>\n",
       "      <th>outcome_s</th>\n",
       "      <th>animal</th>\n",
       "      <th>breed</th>\n",
       "      <th>o_date</th>\n",
       "      <th>years_old</th>\n",
       "      <th>o_month</th>\n",
       "      <th>year</th>\n",
       "      <th>o_weekday</th>\n",
       "      <th>o_altered</th>\n",
       "    </tr>\n",
       "  </thead>\n",
       "  <tbody>\n",
       "    <tr>\n",
       "      <th>0</th>\n",
       "      <td>A797631</td>\n",
       "      <td>*Pigeon</td>\n",
       "      <td>Transfer</td>\n",
       "      <td>Partner</td>\n",
       "      <td>Dog</td>\n",
       "      <td>Pit Bull</td>\n",
       "      <td>2019-07-24</td>\n",
       "      <td>2.106849</td>\n",
       "      <td>7</td>\n",
       "      <td>2019</td>\n",
       "      <td>2</td>\n",
       "      <td>Spayed</td>\n",
       "    </tr>\n",
       "    <tr>\n",
       "      <th>1</th>\n",
       "      <td>A800346</td>\n",
       "      <td>NaN</td>\n",
       "      <td>Transfer</td>\n",
       "      <td>Partner</td>\n",
       "      <td>Dog</td>\n",
       "      <td>Doberman Pinsch</td>\n",
       "      <td>2019-07-24</td>\n",
       "      <td>0.345205</td>\n",
       "      <td>7</td>\n",
       "      <td>2019</td>\n",
       "      <td>2</td>\n",
       "      <td>Intact</td>\n",
       "    </tr>\n",
       "    <tr>\n",
       "      <th>2</th>\n",
       "      <td>A800407</td>\n",
       "      <td>NaN</td>\n",
       "      <td>Transfer</td>\n",
       "      <td>Snr</td>\n",
       "      <td>Cat</td>\n",
       "      <td>Domestic Shorthair Mix</td>\n",
       "      <td>2019-07-24</td>\n",
       "      <td>2.010959</td>\n",
       "      <td>7</td>\n",
       "      <td>2019</td>\n",
       "      <td>2</td>\n",
       "      <td>Intact</td>\n",
       "    </tr>\n",
       "    <tr>\n",
       "      <th>3</th>\n",
       "      <td>A800410</td>\n",
       "      <td>NaN</td>\n",
       "      <td>Transfer</td>\n",
       "      <td>Snr</td>\n",
       "      <td>Cat</td>\n",
       "      <td>Domestic Shorthair Mix</td>\n",
       "      <td>2019-07-24</td>\n",
       "      <td>0.279452</td>\n",
       "      <td>7</td>\n",
       "      <td>2019</td>\n",
       "      <td>2</td>\n",
       "      <td>Intact</td>\n",
       "    </tr>\n",
       "    <tr>\n",
       "      <th>4</th>\n",
       "      <td>A800409</td>\n",
       "      <td>NaN</td>\n",
       "      <td>Transfer</td>\n",
       "      <td>Snr</td>\n",
       "      <td>Cat</td>\n",
       "      <td>Domestic Shorthair Mix</td>\n",
       "      <td>2019-07-24</td>\n",
       "      <td>0.279452</td>\n",
       "      <td>7</td>\n",
       "      <td>2019</td>\n",
       "      <td>2</td>\n",
       "      <td>Intact</td>\n",
       "    </tr>\n",
       "  </tbody>\n",
       "</table>\n",
       "</div>"
      ],
      "text/plain": [
       "        id     name   outcome outcome_s animal                   breed  \\\n",
       "0  A797631  *Pigeon  Transfer   Partner    Dog                Pit Bull   \n",
       "1  A800346      NaN  Transfer   Partner    Dog         Doberman Pinsch   \n",
       "2  A800407      NaN  Transfer       Snr    Cat  Domestic Shorthair Mix   \n",
       "3  A800410      NaN  Transfer       Snr    Cat  Domestic Shorthair Mix   \n",
       "4  A800409      NaN  Transfer       Snr    Cat  Domestic Shorthair Mix   \n",
       "\n",
       "      o_date  years_old  o_month  year  o_weekday o_altered  \n",
       "0 2019-07-24   2.106849        7  2019          2    Spayed  \n",
       "1 2019-07-24   0.345205        7  2019          2    Intact  \n",
       "2 2019-07-24   2.010959        7  2019          2    Intact  \n",
       "3 2019-07-24   0.279452        7  2019          2    Intact  \n",
       "4 2019-07-24   0.279452        7  2019          2    Intact  "
      ]
     },
     "execution_count": 56,
     "metadata": {},
     "output_type": "execute_result"
    }
   ],
   "source": [
    "# Read in shelter data\n",
    "animal_outcomes = pd.read_csv(\n",
    "    'https://data.austintexas.gov/api/views/9t4d-g238/rows.csv?accessType=DOWNLOAD')\n",
    "\n",
    "# change names\n",
    "new_names = ['id', 'name', 'date', 'monthyear', 'dob', 'outcome',\n",
    "             'outcome_s', 'animal', 'sex', 'age', 'breed', 'color']\n",
    "animal_outcomes.columns = new_names\n",
    "\n",
    "# convert date formats\n",
    "animal_outcomes.date = animal_outcomes['date'].map(lambda x: x[:10])\n",
    "animal_outcomes['o_date'] = pd.to_datetime(\n",
    "    animal_outcomes['date'], format='%m/%d/%Y')\n",
    "animal_outcomes['dob'] = pd.to_datetime(\n",
    "    animal_outcomes['dob'], format='%m/%d/%Y')\n",
    "\n",
    "# get more date info\n",
    "animal_outcomes['o_month'] = animal_outcomes['o_date'].map(lambda x: x.month)\n",
    "animal_outcomes['year'] = animal_outcomes['o_date'].map(lambda x: x.year)\n",
    "animal_outcomes['o_weekday'] = animal_outcomes['o_date'].map(\n",
    "    lambda x: x.weekday())\n",
    "\n",
    "# get age of animal\n",
    "# I do not know why I had to cast them again... but it only worked when i did\n",
    "animal_outcomes['date'] = pd.to_datetime(animal_outcomes['date'])\n",
    "animal_outcomes['dob'] = pd.to_datetime(animal_outcomes['dob'])\n",
    "animal_outcomes['age_in_days'] = animal_outcomes['date'] - \\\n",
    "    animal_outcomes['dob']\n",
    "\n",
    "animal_outcomes['years_old'] = animal_outcomes.age_in_days.map(\n",
    "    lambda x: x.days/365)\n",
    "\n",
    "# drop \"unknown\" gender\n",
    "animal_outcomes = animal_outcomes[animal_outcomes.sex != 'Unknown']\n",
    "\n",
    "# get sex variablle split\n",
    "animal_outcomes['gender'] = animal_outcomes['sex'].str.split(\" \").str[1]\n",
    "animal_outcomes['o_altered'] = animal_outcomes['sex'].str.split(\" \").str[0]\n",
    "\n",
    "outcomes_data = animal_outcomes[['id', 'name', 'outcome', 'outcome_s', 'animal',\n",
    "                                 'breed', 'o_date', 'years_old', 'o_month', 'year', 'o_weekday', 'o_altered']]\n",
    "\n",
    "outcomes_data.head()"
   ]
  },
  {
   "cell_type": "code",
   "execution_count": 57,
   "metadata": {},
   "outputs": [],
   "source": [
    "animal_shelter_df  = pd.merge(intake_data, outcomes_data, on=['id', 'year'],                                   how='left', suffixes=('_intake', '_outcome'))\n",
    "\n",
    "animal_shelter_df = animal_shelter_df[(~animal_shelter_df['o_date'].isna()) &                                           (animal_shelter_df['o_date'] > animal_shelter_df['i_date'])]\n",
    "\n",
    "animal_shelter_df['days_in_shelter'] = (animal_shelter_df['o_date'] - animal_shelter_df['i_date'])\n",
    "\n",
    "animal_shelter_df['days_in_shelter'] = animal_shelter_df['days_in_shelter'].apply(lambda x: x.days)"
   ]
  },
  {
   "cell_type": "code",
   "execution_count": 58,
   "metadata": {},
   "outputs": [
    {
     "data": {
      "text/html": [
       "<div>\n",
       "<style scoped>\n",
       "    .dataframe tbody tr th:only-of-type {\n",
       "        vertical-align: middle;\n",
       "    }\n",
       "\n",
       "    .dataframe tbody tr th {\n",
       "        vertical-align: top;\n",
       "    }\n",
       "\n",
       "    .dataframe thead th {\n",
       "        text-align: right;\n",
       "    }\n",
       "</style>\n",
       "<table border=\"1\" class=\"dataframe\">\n",
       "  <thead>\n",
       "    <tr style=\"text-align: right;\">\n",
       "      <th></th>\n",
       "      <th>id</th>\n",
       "      <th>type</th>\n",
       "      <th>i_date</th>\n",
       "      <th>sex</th>\n",
       "      <th>i_month</th>\n",
       "      <th>year</th>\n",
       "      <th>i_weekday</th>\n",
       "      <th>gender</th>\n",
       "      <th>i_altered</th>\n",
       "      <th>name</th>\n",
       "      <th>outcome</th>\n",
       "      <th>outcome_s</th>\n",
       "      <th>animal</th>\n",
       "      <th>breed</th>\n",
       "      <th>o_date</th>\n",
       "      <th>years_old</th>\n",
       "      <th>o_month</th>\n",
       "      <th>o_weekday</th>\n",
       "      <th>o_altered</th>\n",
       "      <th>days_in_shelter</th>\n",
       "    </tr>\n",
       "  </thead>\n",
       "  <tbody>\n",
       "    <tr>\n",
       "      <th>5</th>\n",
       "      <td>A800582</td>\n",
       "      <td>Dog</td>\n",
       "      <td>2019-07-23</td>\n",
       "      <td>Intact Male</td>\n",
       "      <td>7</td>\n",
       "      <td>2019</td>\n",
       "      <td>1</td>\n",
       "      <td>Male</td>\n",
       "      <td>Intact</td>\n",
       "      <td>Phoenix</td>\n",
       "      <td>Return to Owner</td>\n",
       "      <td>NaN</td>\n",
       "      <td>Dog</td>\n",
       "      <td>Pit Bull</td>\n",
       "      <td>2019-07-24</td>\n",
       "      <td>5.002740</td>\n",
       "      <td>7.0</td>\n",
       "      <td>2.0</td>\n",
       "      <td>Intact</td>\n",
       "      <td>1</td>\n",
       "    </tr>\n",
       "    <tr>\n",
       "      <th>7</th>\n",
       "      <td>A800577</td>\n",
       "      <td>Dog</td>\n",
       "      <td>2019-07-23</td>\n",
       "      <td>Intact Male</td>\n",
       "      <td>7</td>\n",
       "      <td>2019</td>\n",
       "      <td>1</td>\n",
       "      <td>Male</td>\n",
       "      <td>Intact</td>\n",
       "      <td>Spike</td>\n",
       "      <td>Return to Owner</td>\n",
       "      <td>NaN</td>\n",
       "      <td>Dog</td>\n",
       "      <td>Labrador Retriever/Beagle</td>\n",
       "      <td>2019-07-24</td>\n",
       "      <td>3.002740</td>\n",
       "      <td>7.0</td>\n",
       "      <td>2.0</td>\n",
       "      <td>Intact</td>\n",
       "      <td>1</td>\n",
       "    </tr>\n",
       "    <tr>\n",
       "      <th>20</th>\n",
       "      <td>A800561</td>\n",
       "      <td>Dog</td>\n",
       "      <td>2019-07-23</td>\n",
       "      <td>Neutered Male</td>\n",
       "      <td>7</td>\n",
       "      <td>2019</td>\n",
       "      <td>1</td>\n",
       "      <td>Male</td>\n",
       "      <td>Neutered</td>\n",
       "      <td>Batman</td>\n",
       "      <td>Return to Owner</td>\n",
       "      <td>NaN</td>\n",
       "      <td>Dog</td>\n",
       "      <td>Miniature Pinscher Mix</td>\n",
       "      <td>2019-07-24</td>\n",
       "      <td>6.005479</td>\n",
       "      <td>7.0</td>\n",
       "      <td>2.0</td>\n",
       "      <td>Neutered</td>\n",
       "      <td>1</td>\n",
       "    </tr>\n",
       "    <tr>\n",
       "      <th>25</th>\n",
       "      <td>A800529</td>\n",
       "      <td>Dog</td>\n",
       "      <td>2019-07-22</td>\n",
       "      <td>Intact Male</td>\n",
       "      <td>7</td>\n",
       "      <td>2019</td>\n",
       "      <td>0</td>\n",
       "      <td>Male</td>\n",
       "      <td>Intact</td>\n",
       "      <td>Charito</td>\n",
       "      <td>Transfer</td>\n",
       "      <td>Partner</td>\n",
       "      <td>Dog</td>\n",
       "      <td>Chihuahua Shorthair</td>\n",
       "      <td>2019-07-23</td>\n",
       "      <td>0.498630</td>\n",
       "      <td>7.0</td>\n",
       "      <td>1.0</td>\n",
       "      <td>Intact</td>\n",
       "      <td>1</td>\n",
       "    </tr>\n",
       "    <tr>\n",
       "      <th>27</th>\n",
       "      <td>A797734</td>\n",
       "      <td>Dog</td>\n",
       "      <td>2019-07-22</td>\n",
       "      <td>Intact Male</td>\n",
       "      <td>7</td>\n",
       "      <td>2019</td>\n",
       "      <td>0</td>\n",
       "      <td>Male</td>\n",
       "      <td>Intact</td>\n",
       "      <td>Spike</td>\n",
       "      <td>Return to Owner</td>\n",
       "      <td>NaN</td>\n",
       "      <td>Dog</td>\n",
       "      <td>Pit Bull Mix</td>\n",
       "      <td>2019-07-23</td>\n",
       "      <td>1.016438</td>\n",
       "      <td>7.0</td>\n",
       "      <td>1.0</td>\n",
       "      <td>Intact</td>\n",
       "      <td>1</td>\n",
       "    </tr>\n",
       "  </tbody>\n",
       "</table>\n",
       "</div>"
      ],
      "text/plain": [
       "         id type     i_date            sex  i_month  year  i_weekday gender  \\\n",
       "5   A800582  Dog 2019-07-23    Intact Male        7  2019          1   Male   \n",
       "7   A800577  Dog 2019-07-23    Intact Male        7  2019          1   Male   \n",
       "20  A800561  Dog 2019-07-23  Neutered Male        7  2019          1   Male   \n",
       "25  A800529  Dog 2019-07-22    Intact Male        7  2019          0   Male   \n",
       "27  A797734  Dog 2019-07-22    Intact Male        7  2019          0   Male   \n",
       "\n",
       "   i_altered     name          outcome outcome_s animal  \\\n",
       "5     Intact  Phoenix  Return to Owner       NaN    Dog   \n",
       "7     Intact    Spike  Return to Owner       NaN    Dog   \n",
       "20  Neutered   Batman  Return to Owner       NaN    Dog   \n",
       "25    Intact  Charito         Transfer   Partner    Dog   \n",
       "27    Intact    Spike  Return to Owner       NaN    Dog   \n",
       "\n",
       "                        breed     o_date  years_old  o_month  o_weekday  \\\n",
       "5                    Pit Bull 2019-07-24   5.002740      7.0        2.0   \n",
       "7   Labrador Retriever/Beagle 2019-07-24   3.002740      7.0        2.0   \n",
       "20     Miniature Pinscher Mix 2019-07-24   6.005479      7.0        2.0   \n",
       "25        Chihuahua Shorthair 2019-07-23   0.498630      7.0        1.0   \n",
       "27               Pit Bull Mix 2019-07-23   1.016438      7.0        1.0   \n",
       "\n",
       "   o_altered  days_in_shelter  \n",
       "5     Intact                1  \n",
       "7     Intact                1  \n",
       "20  Neutered                1  \n",
       "25    Intact                1  \n",
       "27    Intact                1  "
      ]
     },
     "execution_count": 58,
     "metadata": {},
     "output_type": "execute_result"
    }
   ],
   "source": [
    "animal_shelter_df.head()"
   ]
  },
  {
   "cell_type": "code",
   "execution_count": 59,
   "metadata": {},
   "outputs": [],
   "source": [
    "# import libraries\n",
    "\n",
    "import matplotlib.pyplot as plt\n",
    "import numpy as np\n",
    "import pandas as pd\n",
    "# Set plot space as inline for inline plots display\n",
    "%matplotlib inline"
   ]
  },
  {
   "cell_type": "markdown",
   "metadata": {},
   "source": [
    "\n",
    "![msatplot](https://python-graph-gallery.com/wp-content/uploads/Logo_PGG_full-3.jpg)\n",
    "\n",
    "The [Python Graph Gallery](https://python-graph-gallery.com/matplotlib/) has some great resources to guide you through the code needed to create each type of matplotlib plot. \n",
    "\n",
    "### Plot Anatomy\n",
    "Let's spend some time on the terminology of a plot. There are a lot of options to set in matplotlib plots, so let's identify some common terminology. \n",
    "\n",
    "The sequence of events with matplotlib are:\n",
    "\n",
    "| Step | Code Example |\n",
    "| :---- | :------------ |\n",
    "| 1. Create axis object | `ax = plt.subplot()` |\n",
    "| 2. Create figure | `plt.bar` |\n",
    "| 3. Make adjustments | `plt.title`, `ax.set_xticks`, etc |\n",
    "| 4. Show final plot | `plt.show()` . |\n",
    "\n",
    "\n",
    "The [Pyplot tutorial](https://matplotlib.org/tutorials/introductory/pyplot.html) shows a list of options you can set within a plot.\n",
    "\n",
    "![matplotlib anatomy](https://matplotlib.org/_images/sphx_glr_anatomy_001.png)\n",
    "\n",
    "\n",
    "Let's look [how they created this plot.](https://matplotlib.org/gallery/showcase/anatomy.html)"
   ]
  },
  {
   "cell_type": "markdown",
   "metadata": {},
   "source": [
    "### 1 Barplots\n",
    "Barplots are used for displaying __one dimensional__, __discrete__ data. You call plt.bar with two arguments:\n",
    "- the x — a list of x-positions for each bar\n",
    "- the y-values — a list of heights for each bar"
   ]
  },
  {
   "cell_type": "code",
   "execution_count": 16,
   "metadata": {
    "scrolled": false
   },
   "outputs": [
    {
     "data": {
      "image/png": "[encoded data removed]",
      "text/plain": [
       "<Figure size 432x288 with 1 Axes>"
      ]
     },
     "metadata": {
      "needs_background": "light"
     },
     "output_type": "display_data"
    }
   ],
   "source": [
    "# an example of a bar plot \n",
    "ax = plt.subplot() # create an axis object, which the plot object which we can customize\n",
    "our_dogs = [\"dengue\", \"dolce\", \"murray\", \"dog_a\", \"dog_b\", \"dog_c\"] \n",
    "dogs_age =  [5, 8, 5, 4, 6, 7]\n",
    "\n",
    "plt.bar(range(len(our_dogs)), dogs_age)\n",
    "\n",
    "ax.set_xticks(range(0,len(our_dogs))) # set ticks values, as a method of the axes\n",
    "ax.set_xticklabels(our_dogs) # set tick labels, also as a method of the axes\n",
    "\n",
    "plt.title('age of random dogs')\n",
    "plt.xlabel('dogs')\n",
    "plt.ylabel('age')\n",
    "plt.show()"
   ]
  },
  {
   "cell_type": "markdown",
   "metadata": {},
   "source": [
    "[What is ax and figure?](https://stackoverflow.com/questions/34162443/why-do-many-examples-use-fig-ax-plt-subplots-in-matplotlib-pyplot-python)"
   ]
  },
  {
   "cell_type": "code",
   "execution_count": 27,
   "metadata": {
    "scrolled": false
   },
   "outputs": [
    {
     "data": {
      "text/plain": [
       "Text(0.5, 1.0, 'cat age')"
      ]
     },
     "execution_count": 27,
     "metadata": {},
     "output_type": "execute_result"
    },
    {
     "data": {
      "image/png": "[encoded data removed]",
      "text/plain": [
       "<Figure size 576x720 with 2 Axes>"
      ]
     },
     "metadata": {
      "needs_background": "light"
     },
     "output_type": "display_data"
    }
   ],
   "source": [
    "# utilizing the subplot function and creating subplots\n",
    "our_cats = [\"cat_1\", \"cat_2\", \"cat_3\", \"cat_4\", \"cat_5\", \"cat_6\"]\n",
    "cats_age =  [14, 16, 17, 20, 18, 24]\n",
    "fig = plt.figure(figsize = (8,10))\n",
    "axl=plt.subplot(1,2,1)\n",
    "plt.subplot(1,2,1)\n",
    "plt.bar(range(len(our_dogs)),dogs_age, color = 'pink')\n",
    "plt.title('dog age')\n",
    "plt.subplot(1,2,2)\n",
    "plt.bar(range(len(our_cats)),cats_age, color = 'green')\n",
    "plt.title('cat age')\n"
   ]
  },
  {
   "cell_type": "markdown",
   "metadata": {},
   "source": [
    "What is something that you notice here that needs to be fixed?"
   ]
  },
  {
   "cell_type": "code",
   "execution_count": 21,
   "metadata": {
    "scrolled": true
   },
   "outputs": [
    {
     "data": {
      "text/plain": [
       "<matplotlib.legend.Legend at 0x2b30dc88b38>"
      ]
     },
     "execution_count": 21,
     "metadata": {},
     "output_type": "execute_result"
    },
    {
     "data": {
      "image/png": "[encoded data removed]",
      "text/plain": [
       "<Figure size 432x288 with 1 Axes>"
      ]
     },
     "metadata": {
      "needs_background": "light"
     },
     "output_type": "display_data"
    }
   ],
   "source": [
    "# we can create overlaid or side-by-side bargraph. You need to shift the x value by width to accommodate for two graphs.\n",
    "from matplotlib import pyplot as plt\n",
    "fig = plt.figure()\n",
    "n = 1  # This is our first dataset (out of 2)\n",
    "t = 2  # Number of datasets\n",
    "d = 6  # Number of sets of bars\n",
    "w = 0.8  # Width of each bar\n",
    "\n",
    "# essentially, this list comprehension gives us the position\n",
    "dog_values = [t*element + w*n for element in range(d)]\n",
    "\n",
    "# of the position of dogs\n",
    "plt.bar(dog_values, dogs_age, color='green')\n",
    "\n",
    "\n",
    "n = 2  # This is our second dataset (out of 2)\n",
    "t = 2  # Number of datasets\n",
    "d = 6  # Number of sets of bars\n",
    "w = 0.8  # Width of each bar\n",
    "\n",
    "cat_values = [t*element + w*n for element in range(d)]\n",
    "\n",
    "plt.bar(cat_values, cats_age, color='purple')\n",
    "plt.legend([\"dogs\", \"cats\"])\n"
   ]
  },
  {
   "cell_type": "code",
   "execution_count": 22,
   "metadata": {},
   "outputs": [
    {
     "name": "stdout",
     "output_type": "stream",
     "text": [
      "[0.8, 2.8, 4.8, 6.8, 8.8, 10.8]\n",
      "[1.6, 3.6, 5.6, 7.6, 9.6, 11.6]\n"
     ]
    }
   ],
   "source": [
    "print(dog_values)\n",
    "print(cat_values)"
   ]
  },
  {
   "cell_type": "code",
   "execution_count": null,
   "metadata": {},
   "outputs": [],
   "source": []
  },
  {
   "cell_type": "code",
   "execution_count": 23,
   "metadata": {
    "scrolled": true
   },
   "outputs": [
    {
     "data": {
      "image/png": "[encoded data removed]",
      "text/plain": [
       "<Figure size 432x288 with 1 Axes>"
      ]
     },
     "metadata": {
      "needs_background": "light"
     },
     "output_type": "display_data"
    }
   ],
   "source": [
    "# stacked barplots\n",
    "ax = plt.subplot()\n",
    "music_festivals = [\"Coachella\", \"Govball\", \"EDC\", \"Ultra\"]\n",
    "ticket_sales_in_millon = [114, 62, 120, 116]\n",
    "people_attended_in_thousands = [126, 114, 130, 110]\n",
    "\n",
    "plt.bar(range(len(music_festivals)),\n",
    "        ticket_sales_in_millon)\n",
    "plt.bar(range(len(music_festivals)),\n",
    "        people_attended_in_thousands,\n",
    "        bottom=ticket_sales_in_millon)\n",
    "\n",
    "plt.legend([\"tix sales\", \"number of people\"])\n",
    "ax.set_xticks(range(0, len(music_festivals)))\n",
    "ax.set_xticklabels(music_festivals)\n",
    "plt.show()"
   ]
  },
  {
   "cell_type": "markdown",
   "metadata": {},
   "source": [
    "### Bar plot - animal shelter dataset\n",
    "\n",
    "Let's make a bar plot comparing dogs and cats by month when they are admitted to the shelter."
   ]
  },
  {
   "cell_type": "code",
   "execution_count": 29,
   "metadata": {},
   "outputs": [],
   "source": [
    "# Get data for Dog bar chart\n",
    "dog_month=animal_shelter_df[(animal_shelter_df['animal']=='Dog') & (animal_shelter_df['year']==2018) ].groupby('i_month').size()\n",
    "cat_month=animal_shelter_df[(animal_shelter_df['animal']=='Cat') & (animal_shelter_df['year']==2018) ].groupby('i_month').size()"
   ]
  },
  {
   "cell_type": "code",
   "execution_count": 32,
   "metadata": {},
   "outputs": [
    {
     "data": {
      "text/plain": [
       "Text(0.5, 1.0, 'cat age')"
      ]
     },
     "execution_count": 32,
     "metadata": {},
     "output_type": "execute_result"
    },
    {
     "data": {
      "image/png": "[encoded data removed]",
      "text/plain": [
       "<Figure size 576x720 with 2 Axes>"
      ]
     },
     "metadata": {
      "needs_background": "light"
     },
     "output_type": "display_data"
    }
   ],
   "source": [
    "# utilizing the subplot function and creating subplots\n",
    "\n",
    "fig = plt.figure(figsize = (8,10))\n",
    "axl=plt.subplot(1,2,1)\n",
    "plt.subplot(1,2,1)\n",
    "plt.bar(range(len(our_dogs)),dogs_age, color = 'pink')\n",
    "plt.title('dog age')\n",
    "plt.subplot(1,2,2)\n",
    "plt.bar(range(len(our_cats)),cats_age, color = 'green')\n",
    "plt.title('cat age')"
   ]
  },
  {
   "cell_type": "code",
   "execution_count": null,
   "metadata": {},
   "outputs": [],
   "source": []
  },
  {
   "cell_type": "markdown",
   "metadata": {},
   "source": [
    "### 2 Histogram\n",
    "Histograms are like barplots in the sense that it describe __one-dimensional__ data. A histogram divides the variable into bins, counts the number of observations in each bin, and shows the bins on the x-axis and the frequency on the y-axis. It is used for visualizing __continuous__ variables. <br>\n",
    "\n",
    "From the documentation: compute and draw the histogram of x. The return value is a tuple (__n, bins, patches__) or ([n0, n1, ...], bins, [patches0, patches1,...]) if the input contains multiple data."
   ]
  },
  {
   "cell_type": "code",
   "execution_count": 41,
   "metadata": {},
   "outputs": [
    {
     "data": {
      "text/plain": [
       "<BarContainer object of 12 artists>"
      ]
     },
     "execution_count": 41,
     "metadata": {},
     "output_type": "execute_result"
    },
    {
     "data": {
      "image/png": "[encoded data removed]",
      "text/plain": [
       "<Figure size 720x720 with 1 Axes>"
      ]
     },
     "metadata": {
      "needs_background": "light"
     },
     "output_type": "display_data"
    }
   ],
   "source": [
    "# Get data for Dog bar chart\n",
    "dog_month = animal_shelter_df[(animal_shelter_df['animal'] == 'Dog') & (\n",
    "    animal_shelter_df['year'] == 2018)].groupby('i_month').size()\n",
    "dog_month\n",
    "\n",
    "# Make chart\n",
    "fig = plt.figure(figsize=(10,10))\n",
    "ax = plt.subplot()\n",
    "months = dog_month.index\n",
    "\n",
    "# for i, v in enumerate(dog_month):\n",
    "#     ax.text(v + 30, i + 25, str(v), color='blue', fontweight='bold')\n",
    "\n",
    "\n",
    "plt.title('2018 dog adoptions by month!')\n",
    "plt.bar(months, dog_month, color='brown')"
   ]
  },
  {
   "attachments": {
    "Screen%20Shot%202019-02-03%20at%2010.13.45%20PM.png": {
     "image/png": "[encoded data removed]"
    }
   },
   "cell_type": "markdown",
   "metadata": {},
   "source": [
    "Comparison of barplots and histogram\n",
    "![Screen%20Shot%202019-02-03%20at%2010.13.45%20PM.png](attachment:Screen%20Shot%202019-02-03%20at%2010.13.45%20PM.png)"
   ]
  },
  {
   "cell_type": "code",
   "execution_count": 42,
   "metadata": {
    "scrolled": true
   },
   "outputs": [
    {
     "data": {
      "image/png": "[encoded data removed]",
      "text/plain": [
       "<Figure size 432x288 with 1 Axes>"
      ]
     },
     "metadata": {
      "needs_background": "light"
     },
     "output_type": "display_data"
    }
   ],
   "source": [
    "# Set seed for reproducability\n",
    "np.random.seed(2018)\n",
    "\n",
    "# Generate 1000 values from 0 standard normal distribution\n",
    "x = np.random.randn(100000)\n",
    "\n",
    "# Plot the distogram with hist() function\n",
    "plt.hist(x, bins=1000, color='purple')\n",
    "\n",
    "plt.xlabel('Normal random distribution')\n",
    "plt.ylabel('Frequency of Values')\n",
    "plt.title('Histograms')\n",
    "plt.show()"
   ]
  },
  {
   "cell_type": "code",
   "execution_count": 43,
   "metadata": {},
   "outputs": [
    {
     "data": {
      "image/png": "[encoded data removed]",
      "text/plain": [
       "<Figure size 720x576 with 1 Axes>"
      ]
     },
     "metadata": {
      "needs_background": "light"
     },
     "output_type": "display_data"
    }
   ],
   "source": [
    "# overlaid histograms for two distributions\n",
    "# plotting two histograms \n",
    "mu1, sigma1 = 0, 0.1 # mean and standard deviation\n",
    "s1 = np.random.normal(mu1, sigma1, 1000)\n",
    "mu2, sigma2 = 0.2, 0.1\n",
    "s2 = np.random.normal(mu2, sigma2, 1000)\n",
    "plt.figure(figsize = (10,8))\n",
    "plt.hist(s1, bins = 200, density = True, alpha=.3)\n",
    "plt.hist(s2, bins = 200, density = True, alpha=.3)\n",
    "plt.show()"
   ]
  },
  {
   "cell_type": "markdown",
   "metadata": {},
   "source": [
    "### Histogram - animal shelter dataset\n",
    "\n",
    "Let's make a **historgram** comparing dogs and cats by age when they are admitted to the shelter."
   ]
  },
  {
   "cell_type": "code",
   "execution_count": 44,
   "metadata": {},
   "outputs": [],
   "source": [
    "cat_age= animal_shelter_df[(animal_shelter_df['animal'] == 'Cat')].years_old\n",
    "dog_age= animal_shelter_df[(animal_shelter_df['animal'] == 'Dog')].years_old"
   ]
  },
  {
   "cell_type": "code",
   "execution_count": 39,
   "metadata": {},
   "outputs": [
    {
     "ename": "NameError",
     "evalue": "name 'dogs' is not defined",
     "output_type": "error",
     "traceback": [
      "\u001b[1;31m---------------------------------------------------------------------------\u001b[0m",
      "\u001b[1;31mNameError\u001b[0m                                 Traceback (most recent call last)",
      "\u001b[1;32m<ipython-input-39-10005724e114>\u001b[0m in \u001b[0;36m<module>\u001b[1;34m\u001b[0m\n\u001b[0;32m      1\u001b[0m \u001b[0mfig\u001b[0m \u001b[1;33m=\u001b[0m \u001b[0mplt\u001b[0m\u001b[1;33m.\u001b[0m\u001b[0mfigure\u001b[0m\u001b[1;33m(\u001b[0m\u001b[0mfigsize\u001b[0m\u001b[1;33m=\u001b[0m\u001b[1;33m(\u001b[0m\u001b[1;36m6\u001b[0m\u001b[1;33m,\u001b[0m \u001b[1;36m6\u001b[0m\u001b[1;33m)\u001b[0m\u001b[1;33m)\u001b[0m\u001b[1;33m\u001b[0m\u001b[1;33m\u001b[0m\u001b[0m\n\u001b[0;32m      2\u001b[0m \u001b[0max\u001b[0m \u001b[1;33m=\u001b[0m \u001b[0mfig\u001b[0m\u001b[1;33m.\u001b[0m\u001b[0madd_subplot\u001b[0m\u001b[1;33m(\u001b[0m\u001b[1;36m1\u001b[0m\u001b[1;33m,\u001b[0m \u001b[1;36m1\u001b[0m\u001b[1;33m,\u001b[0m \u001b[1;36m1\u001b[0m\u001b[1;33m)\u001b[0m\u001b[1;33m\u001b[0m\u001b[1;33m\u001b[0m\u001b[0m\n\u001b[1;32m----> 3\u001b[1;33m \u001b[0mplt\u001b[0m\u001b[1;33m.\u001b[0m\u001b[0mhist\u001b[0m\u001b[1;33m(\u001b[0m\u001b[0mdogs\u001b[0m\u001b[1;33m,\u001b[0m \u001b[0mbins\u001b[0m\u001b[1;33m=\u001b[0m\u001b[1;36m20\u001b[0m\u001b[1;33m,\u001b[0m \u001b[0malpha\u001b[0m\u001b[1;33m=\u001b[0m\u001b[1;36m.35\u001b[0m\u001b[1;33m,\u001b[0m \u001b[0mcolor\u001b[0m\u001b[1;33m=\u001b[0m\u001b[1;34m'red'\u001b[0m\u001b[1;33m)\u001b[0m\u001b[1;33m\u001b[0m\u001b[1;33m\u001b[0m\u001b[0m\n\u001b[0m\u001b[0;32m      4\u001b[0m \u001b[0mplt\u001b[0m\u001b[1;33m.\u001b[0m\u001b[0mhist\u001b[0m\u001b[1;33m(\u001b[0m\u001b[0mcats\u001b[0m\u001b[1;33m,\u001b[0m \u001b[0mbins\u001b[0m\u001b[1;33m=\u001b[0m\u001b[1;36m20\u001b[0m\u001b[1;33m,\u001b[0m \u001b[0malpha\u001b[0m\u001b[1;33m=\u001b[0m\u001b[1;36m.35\u001b[0m\u001b[1;33m,\u001b[0m \u001b[0mcolor\u001b[0m\u001b[1;33m=\u001b[0m\u001b[1;34m'blue'\u001b[0m\u001b[1;33m)\u001b[0m\u001b[1;33m\u001b[0m\u001b[1;33m\u001b[0m\u001b[0m\n\u001b[0;32m      5\u001b[0m \u001b[1;33m\u001b[0m\u001b[0m\n",
      "\u001b[1;31mNameError\u001b[0m: name 'dogs' is not defined"
     ]
    },
    {
     "data": {
      "image/png": "[encoded data removed]",
      "text/plain": [
       "<Figure size 432x432 with 1 Axes>"
      ]
     },
     "metadata": {
      "needs_background": "light"
     },
     "output_type": "display_data"
    }
   ],
   "source": [
    "fig = plt.figure(figsize=(6, 6))\n",
    "ax = fig.add_subplot(1, 1, 1)\n",
    "plt.hist(dogs, bins=20, alpha=.35, color='red')\n",
    "plt.hist(cats, bins=20, alpha=.35, color='blue')\n",
    "\n",
    "ax.legend(['dogs', 'cats'])\n",
    "\n",
    "ax.set_xlabel('Age at admission')\n",
    "ax.set_ylabel('Count')\n",
    "\n",
    "ax.set_title('Histogram of animal ages at admission')\n",
    "plt.show()"
   ]
  },
  {
   "cell_type": "markdown",
   "metadata": {},
   "source": [
    "### 3. Scatterplot - visualizing two dimensional data\n",
    "Scatterplots are usually used for visualizing two dimensional data (observations with two variables). It allows us to examine the relationship between two variables, thus it is sometimes called a correlation plot. "
   ]
  },
  {
   "cell_type": "code",
   "execution_count": null,
   "metadata": {},
   "outputs": [],
   "source": []
  },
  {
   "cell_type": "code",
   "execution_count": null,
   "metadata": {},
   "outputs": [],
   "source": [
    "# generate some data -> the sine wave\n",
    "x = np.linspace(0, 10, 30)\n",
    "y = np.sin(x)\n",
    "plt.scatter(x, y, label=\"Function: sin(x)\")\n",
    "plt.title('Scatter Plot in Matplotlib')\n",
    "plt.legend()\n",
    "plt.show()"
   ]
  },
  {
   "cell_type": "code",
   "execution_count": null,
   "metadata": {
    "scrolled": true
   },
   "outputs": [],
   "source": [
    "# examining correlation with height and weight\n",
    "height = [63, 62, 60, 63, 64, 65, 68, 67, 64, 71, 72, 70, 73]\n",
    "weight = [120, 115, 114, 119, 125, 130, 135, 140, 128, 140, 150, 165, 180]\n",
    "plt.scatter(height, weight, color='r')\n",
    "plt.show()"
   ]
  },
  {
   "cell_type": "markdown",
   "metadata": {},
   "source": [
    "Scatterplots, again, are great for examining the relationship between two variables. We can create pair-wise scatterplot for variables in a dataframe if we want to find their the correlations between variables. Later in this course, we will learn about correlation heatmap. \n",
    "\n",
    "\n",
    "### Scatterplot - animal shelter data\n",
    "\n",
    "For dogs that are adopted, create a scatter plot comparing age to how long a dog spends in the shelter between intake and adoption."
   ]
  },
  {
   "cell_type": "code",
   "execution_count": null,
   "metadata": {},
   "outputs": [],
   "source": [
    "filtered_dogs = animal_shelter_df[(animal_shelter_df.animal == 'Dog') & (\n",
    "    animal_shelter_df.year == 2018) & (animal_shelter_df.outcome == 'Adoption')]\n",
    "dogs_age = filtered_dogs.years_old\n",
    "dogs_time = filtered_dogs.days_in_shelter\n",
    "\n",
    "plt.scatter(dogs_age, dogs_time)\n",
    "plt.title(\"Scatter Plot of Time Spent in Shelter vs. Age\")\n",
    "plt.show()"
   ]
  },
  {
   "cell_type": "markdown",
   "metadata": {},
   "source": [
    "### 4 - Pie Charts"
   ]
  },
  {
   "cell_type": "code",
   "execution_count": 45,
   "metadata": {
    "scrolled": true
   },
   "outputs": [
    {
     "data": {
      "image/png": "[encoded data removed]",
      "text/plain": [
       "<Figure size 720x576 with 1 Axes>"
      ]
     },
     "metadata": {},
     "output_type": "display_data"
    }
   ],
   "source": [
    "# pie chart\n",
    "music_genre = ['R&B', 'Rock', 'Country', 'House', 'Hip Pop', 'Techno']\n",
    "num_people_like = [15, 5, 3, 7, 18, 3]\n",
    "\n",
    "# Make your plot here\n",
    "plt.figure(figsize=(10, 8))\n",
    "plt.pie(num_people_like, labels=music_genre, autopct=\"%1d%%\")\n",
    "\n",
    "plt.axis('equal')\n",
    "plt.title('Music Preference')\n",
    "\n",
    "plt.show()\n",
    "# saves the image to the directory, if you want to\n",
    "# plt.savefig(\"music_pie_chart.jpeg\")\n"
   ]
  },
  {
   "cell_type": "markdown",
   "metadata": {},
   "source": [
    "### Pie chart - animal shelter data\n",
    "\n",
    "While pie charts are frowned upon, people might still ask you to make them.\n",
    "\n",
    "Make a pie chart of cat outcomes."
   ]
  },
  {
   "cell_type": "code",
   "execution_count": 47,
   "metadata": {},
   "outputs": [
    {
     "data": {
      "image/png": "[encoded data removed]",
      "text/plain": [
       "<Figure size 720x576 with 1 Axes>"
      ]
     },
     "metadata": {},
     "output_type": "display_data"
    }
   ],
   "source": [
    "filtered_cats = animal_shelter_df[(animal_shelter_df.animal == 'Cat') & (\n",
    "    animal_shelter_df.year == 2018)]\n",
    "cats_data = filtered_cats.groupby('outcome').size()\n",
    "\n",
    "plt.figure(figsize=(10, 8))\n",
    "plt.pie(cats_data, labels=cats_data.index, autopct=\"%1d%%\")\n",
    "plt.axis('equal')\n",
    "plt.title('outcomes')\n",
    "plt.show()"
   ]
  },
  {
   "cell_type": "markdown",
   "metadata": {},
   "source": [
    "## Putting it together:\n",
    "\n",
    "If at any point you have questions about what a matplotlib function does, you have the `help()` function. "
   ]
  },
  {
   "cell_type": "code",
   "execution_count": null,
   "metadata": {},
   "outputs": [],
   "source": [
    "help(plt.axis)"
   ]
  },
  {
   "cell_type": "markdown",
   "metadata": {},
   "source": [
    "What is one question that we had from earlier that we could answer with a visualization?\n",
    "\n",
    "Please make that plot and then share it with a neighbor. "
   ]
  },
  {
   "cell_type": "code",
   "execution_count": 65,
   "metadata": {},
   "outputs": [
    {
     "ename": "ModuleNotFoundError",
     "evalue": "No module named 'plotly'",
     "output_type": "error",
     "traceback": [
      "\u001b[1;31m---------------------------------------------------------------------------\u001b[0m",
      "\u001b[1;31mModuleNotFoundError\u001b[0m                       Traceback (most recent call last)",
      "\u001b[1;32m<ipython-input-65-6c57cc2cfc60>\u001b[0m in \u001b[0;36m<module>\u001b[1;34m\u001b[0m\n\u001b[0;32m      2\u001b[0m \u001b[1;32mimport\u001b[0m \u001b[0mnumpy\u001b[0m \u001b[1;32mas\u001b[0m \u001b[0mnp\u001b[0m\u001b[1;33m\u001b[0m\u001b[1;33m\u001b[0m\u001b[0m\n\u001b[0;32m      3\u001b[0m \u001b[1;33m\u001b[0m\u001b[0m\n\u001b[1;32m----> 4\u001b[1;33m \u001b[1;32mimport\u001b[0m \u001b[0mplotly\u001b[0m\u001b[1;33m.\u001b[0m\u001b[0mplotly\u001b[0m \u001b[1;32mas\u001b[0m \u001b[0mpy\u001b[0m\u001b[1;33m\u001b[0m\u001b[1;33m\u001b[0m\u001b[0m\n\u001b[0m\u001b[0;32m      5\u001b[0m \u001b[1;32mimport\u001b[0m \u001b[0mplotly\u001b[0m\u001b[1;33m.\u001b[0m\u001b[0mtools\u001b[0m \u001b[1;32mas\u001b[0m \u001b[0mtls\u001b[0m\u001b[1;33m\u001b[0m\u001b[1;33m\u001b[0m\u001b[0m\n\u001b[0;32m      6\u001b[0m \u001b[1;31m# Learn about API authentication here: https://plot.ly/python/getting-started\u001b[0m\u001b[1;33m\u001b[0m\u001b[1;33m\u001b[0m\u001b[1;33m\u001b[0m\u001b[0m\n",
      "\u001b[1;31mModuleNotFoundError\u001b[0m: No module named 'plotly'"
     ]
    }
   ],
   "source": [
    "import matplotlib.pyplot as plt\n",
    "import numpy as np\n",
    "\n",
    "import plotly.plotly as py\n",
    "import plotly.tools as tls\n",
    "# Learn about API authentication here: https://plot.ly/python/getting-started\n",
    "# Find your api_key here: https://plot.ly/settings/api\n",
    "\n"
   ]
  },
  {
   "cell_type": "markdown",
   "metadata": {},
   "source": [
    "## Assessment and reflection "
   ]
  },
  {
   "cell_type": "code",
   "execution_count": 66,
   "metadata": {},
   "outputs": [
    {
     "ename": "NameError",
     "evalue": "name 'tls' is not defined",
     "output_type": "error",
     "traceback": [
      "\u001b[1;31m---------------------------------------------------------------------------\u001b[0m",
      "\u001b[1;31mNameError\u001b[0m                                 Traceback (most recent call last)",
      "\u001b[1;32m<ipython-input-66-657a248f4932>\u001b[0m in \u001b[0;36m<module>\u001b[1;34m\u001b[0m\n\u001b[0;32m      8\u001b[0m \u001b[1;33m\u001b[0m\u001b[0m\n\u001b[0;32m      9\u001b[0m \u001b[0mfig\u001b[0m \u001b[1;33m=\u001b[0m \u001b[0mplt\u001b[0m\u001b[1;33m.\u001b[0m\u001b[0mgcf\u001b[0m\u001b[1;33m(\u001b[0m\u001b[1;33m)\u001b[0m\u001b[1;33m\u001b[0m\u001b[1;33m\u001b[0m\u001b[0m\n\u001b[1;32m---> 10\u001b[1;33m \u001b[0mplotly_fig\u001b[0m \u001b[1;33m=\u001b[0m \u001b[0mtls\u001b[0m\u001b[1;33m.\u001b[0m\u001b[0mmpl_to_plotly\u001b[0m\u001b[1;33m(\u001b[0m \u001b[0mfig\u001b[0m \u001b[1;33m)\u001b[0m\u001b[1;33m\u001b[0m\u001b[1;33m\u001b[0m\u001b[0m\n\u001b[0m\u001b[0;32m     11\u001b[0m \u001b[1;33m\u001b[0m\u001b[0m\n\u001b[0;32m     12\u001b[0m \u001b[0mplotly_fig\u001b[0m\u001b[1;33m[\u001b[0m\u001b[1;34m'layout'\u001b[0m\u001b[1;33m]\u001b[0m\u001b[1;33m[\u001b[0m\u001b[1;34m'titlefont'\u001b[0m\u001b[1;33m]\u001b[0m\u001b[1;33m.\u001b[0m\u001b[0mupdate\u001b[0m\u001b[1;33m(\u001b[0m\u001b[1;33m{\u001b[0m\u001b[1;34m'color'\u001b[0m\u001b[1;33m:\u001b[0m\u001b[1;34m'blue'\u001b[0m\u001b[1;33m,\u001b[0m \u001b[1;34m'size'\u001b[0m\u001b[1;33m:\u001b[0m\u001b[1;36m20\u001b[0m\u001b[1;33m,\u001b[0m \u001b[1;34m'family'\u001b[0m\u001b[1;33m:\u001b[0m\u001b[1;34m'monospace'\u001b[0m\u001b[1;33m}\u001b[0m\u001b[1;33m)\u001b[0m\u001b[1;33m\u001b[0m\u001b[1;33m\u001b[0m\u001b[0m\n",
      "\u001b[1;31mNameError\u001b[0m: name 'tls' is not defined"
     ]
    },
    {
     "data": {
      "image/png": "[encoded data removed]",
      "text/plain": [
       "<Figure size 432x288 with 1 Axes>"
      ]
     },
     "metadata": {
      "needs_background": "light"
     },
     "output_type": "display_data"
    }
   ],
   "source": [
    "\n",
    "x = np.array(range(1,13))\n",
    "y = np.random.randint(100, size=x.shape)\n",
    "\n",
    "plt.plot(x,y)\n",
    "plt.title('The title with font size: 20, and font:monospace')\n",
    "plt.tight_layout()\n",
    "\n",
    "fig = plt.gcf()\n",
    "plotly_fig = tls.mpl_to_plotly( fig )\n",
    "\n",
    "plotly_fig['layout']['titlefont'].update({'color':'blue', 'size':20, 'family':'monospace'})\n",
    "\n",
    "plot_url = py.plot(plotly_fig)"
   ]
  },
  {
   "cell_type": "code",
   "execution_count": null,
   "metadata": {},
   "outputs": [],
   "source": []
  }
 ],
 "metadata": {
  "kernelspec": {
   "display_name": "Python 3",
   "language": "python",
   "name": "python3"
  },
  "language_info": {
   "codemirror_mode": {
    "name": "ipython",
    "version": 3
   },
   "file_extension": ".py",
   "mimetype": "text/x-python",
   "name": "python",
   "nbconvert_exporter": "python",
   "pygments_lexer": "ipython3",
   "version": "3.7.3"
  }
 },
 "nbformat": 4,
 "nbformat_minor": 2
}
