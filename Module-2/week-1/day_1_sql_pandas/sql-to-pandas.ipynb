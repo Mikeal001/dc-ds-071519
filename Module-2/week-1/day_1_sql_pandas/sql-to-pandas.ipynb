{
 "cells": [
  {
   "cell_type": "markdown",
   "metadata": {
    "slideshow": {
     "slide_type": "slide"
    }
   },
   "source": [
    "![sql](img/sql-logo.jpg)\n",
    "\n",
    "# A beginner's guide to databases, SQL, & using them with `pandas`"
   ]
  },
  {
   "cell_type": "markdown",
   "metadata": {
    "slideshow": {
     "slide_type": "slide"
    }
   },
   "source": [
    "**Scenario:** You are a data analyst for the Homeland Security, trying to create reports on the active airports world wide. The data you need to access is in a SQL database. YOu need to be able to query for the data in a database!"
   ]
  },
  {
   "cell_type": "markdown",
   "metadata": {
    "slideshow": {
     "slide_type": "slide"
    }
   },
   "source": [
    "## Learning goals:\n",
    "- Goal 1: Summarize the use case for sql in the data science skill set\n",
    "- Goal 2: Define key sql terminology\n",
    "- Goal 3: Get information about DB schema and table structure\n",
    "- Goal 4: Use basic SQL commands:\n",
    "    - Construct SQL queries\n",
    "    - Use JOIN to merge tables along logical columns\n",
    "    - Grouping Data with SQL\n",
    "- Goal 5: Query data from pandas dataframes using SQL\n",
    "- Goal 6: Convert SQL to pandas"
   ]
  },
  {
   "cell_type": "markdown",
   "metadata": {
    "slideshow": {
     "slide_type": "slide"
    }
   },
   "source": [
    "## Goal 1: Summarize\n",
    "\n",
    "[Netflix has a great article](https://medium.com/netflix-techblog/notebook-innovation-591ee3221233) describing three different data roles at their company, their different needs, and their toolsets.\n",
    "\n",
    "![netflix](img/netflix-data-roles.jpeg)\n",
    "\n",
    "Examining that graphic, SQL shows up as one of the tools of the _Data Engineer_ "
   ]
  },
  {
   "cell_type": "markdown",
   "metadata": {
    "slideshow": {
     "slide_type": "slide"
    }
   },
   "source": [
    "Data Engineers provide the essential data architecture services that make data science possible.\n",
    "\n",
    "![hierarchy](img/ai-hierachy.png)\n",
    "\n",
    "[Source: Monica Rogati’s fantastic Medium post “The AI Hierarchy of Needs”\n",
    "](https://hackernoon.com/the-ai-hierarchy-of-needs-18f111fcc007)"
   ]
  },
  {
   "cell_type": "markdown",
   "metadata": {
    "slideshow": {
     "slide_type": "slide"
    }
   },
   "source": [
    "![etl](img/etl.png)\n",
    "\n",
    "[img source: Jeff Hammerbacher’s slide from UC Berkeley CS 194 course ](https://bcourses.berkeley.edu/courses/1377158/pages/cs-194-16-introduction-to-data-science-fall-2015)"
   ]
  },
  {
   "cell_type": "markdown",
   "metadata": {
    "slideshow": {
     "slide_type": "slide"
    }
   },
   "source": [
    "### What is a Relational Database? \n",
    "\n",
    "![rdb](img/relational-dbms-model.png)\n",
    "[reference for image ](https://www.studytonight.com/dbms/database-model.php)"
   ]
  },
  {
   "cell_type": "markdown",
   "metadata": {
    "slideshow": {
     "slide_type": "slide"
    }
   },
   "source": [
    "### POPULAR RDBMS\n",
    "\n",
    "- SQLite\n",
    "- MySQL\n",
    "- PostgreSql\n",
    "- Oracle DB\n",
    "- SQL Server"
   ]
  },
  {
   "cell_type": "markdown",
   "metadata": {
    "slideshow": {
     "slide_type": "slide"
    }
   },
   "source": [
    "***\n",
    "## Goal 2: Database terminology\n",
    "\n",
    "### Relational Database Schema\n",
    "\n",
    "![schema](img/MySQL_Schema_Music_Example.png)\n",
    "\n",
    "[source of image](https://database.guide/what-is-a-database-schema/)"
   ]
  },
  {
   "cell_type": "markdown",
   "metadata": {
    "slideshow": {
     "slide_type": "slide"
    }
   },
   "source": [
    "### Table columns view\n",
    "![table example](img/columns.png)"
   ]
  },
  {
   "cell_type": "markdown",
   "metadata": {
    "slideshow": {
     "slide_type": "slide"
    }
   },
   "source": [
    "### Terminology\n",
    "\n",
    "- Schema\n",
    "- Primary Key\n",
    "- Foreign Key\n",
    "- Structured queries\n",
    "- Views"
   ]
  },
  {
   "cell_type": "markdown",
   "metadata": {
    "slideshow": {
     "slide_type": "slide"
    }
   },
   "source": [
    "***\n",
    "### SQLite\n",
    "\n",
    "![sqlite](img/SQLite-Python.jpg)\n",
    "\n",
    "\"SQLite is a C library that provides a lightweight disk-based database that doesn’t require a separate server process and allows accessing the database using a nonstandard variant of the SQL query language. Some applications can use SQLite for internal data storage. It’s also possible to prototype an application using SQLite and then port the code to a larger database such as PostgreSQL or Oracle.\" - [sqlite documentation](https://docs.python.org/2/library/sqlite3.html)\n",
    "\n"
   ]
  },
  {
   "cell_type": "markdown",
   "metadata": {
    "slideshow": {
     "slide_type": "slide"
    }
   },
   "source": [
    "## But what about connecting to database servers?\n",
    "\n",
    "To connect to an Oracle database server there is a different package, `cx_Oracle`. The documentation for that package is [here](https://oracle.github.io/python-cx_Oracle/)"
   ]
  },
  {
   "cell_type": "markdown",
   "metadata": {
    "slideshow": {
     "slide_type": "slide"
    }
   },
   "source": [
    "***\n",
    "## Goal 3: Get going with sqlite!"
   ]
  },
  {
   "cell_type": "code",
   "execution_count": 3,
   "metadata": {
    "slideshow": {
     "slide_type": "fragment"
    }
   },
   "outputs": [],
   "source": [
    "import sqlite3"
   ]
  },
  {
   "cell_type": "code",
   "execution_count": 4,
   "metadata": {},
   "outputs": [
    {
     "name": "stdout",
     "output_type": "stream",
     "text": [
      "total 6704\n",
      "drwxr-xr-x 1 kwaku 197609       0 Aug  1 12:51 .\n",
      "drwxr-xr-x 1 kwaku 197609       0 Aug  1 09:34 ..\n",
      "drwxr-xr-x 1 kwaku 197609       0 Aug  1 12:33 .ipynb_checkpoints\n",
      "-rw-r--r-- 1 kwaku 197609 1067008 Aug  1 09:34 Chinook_Sqlite.sqlite\n",
      "-rw-r--r-- 1 kwaku 197609 5415936 Aug  1 09:34 flights.db\n",
      "drwxr-xr-x 1 kwaku 197609       0 Aug  1 09:34 img\n",
      "-rw-r--r-- 1 kwaku 197609   23081 Aug  1 12:33 sql-to-pandas.ipynb\n",
      "-rw-r--r-- 1 kwaku 197609  331930 Aug  1 09:34 sql-to-pandas.slides.html\n",
      "-rw-r--r-- 1 kwaku 197609    5346 Aug  1 12:51 Try SQL.ipynb\n"
     ]
    }
   ],
   "source": [
    "!ls -la"
   ]
  },
  {
   "cell_type": "markdown",
   "metadata": {
    "slideshow": {
     "slide_type": "slide"
    }
   },
   "source": [
    "#### Load a DB object with `connect` and `cursor`"
   ]
  },
  {
   "cell_type": "code",
   "execution_count": 5,
   "metadata": {},
   "outputs": [],
   "source": [
    "con = sqlite3.connect('flights.db')\n",
    "cursor =con.cursor()\n"
   ]
  },
  {
   "cell_type": "code",
   "execution_count": 6,
   "metadata": {
    "slideshow": {
     "slide_type": "fragment"
    }
   },
   "outputs": [],
   "source": [
    "con = sqlite3.connect('flights.db')\n",
    "cursor = con.cursor() # intermediary for passing query to this connection... rls btn dabase n the python"
   ]
  },
  {
   "cell_type": "markdown",
   "metadata": {
    "slideshow": {
     "slide_type": "slide"
    }
   },
   "source": [
    "#### Use sqlite_master to find all the tables in the schema\n",
    "Get the schema of a database from a db in sqlite"
   ]
  },
  {
   "cell_type": "code",
   "execution_count": 7,
   "metadata": {},
   "outputs": [
    {
     "name": "stdout",
     "output_type": "stream",
     "text": [
      "[('airports',), ('airlines',), ('routes',)]\n"
     ]
    }
   ],
   "source": [
    "cursor.execute(\"SELECT name FROM sqlite_master WHERE type= 'table'\")\n",
    "\n",
    "print (cursor.fetchall())"
   ]
  },
  {
   "cell_type": "code",
   "execution_count": null,
   "metadata": {},
   "outputs": [],
   "source": [
    "cursor.execute(\"SELECT name FROM sqlite_master WHERE type='table';\")\n",
    "print(cursor.fetchall()) \n",
    "\n",
    "# shows the tables in the server or dabtabase\n",
    "#the dabtabse shd give us the metadata\n"
   ]
  },
  {
   "cell_type": "code",
   "execution_count": null,
   "metadata": {},
   "outputs": [],
   "source": [
    "print(cursor.fetchall())   #Nfetchalll gives the results of the query"
   ]
  },
  {
   "cell_type": "code",
   "execution_count": 8,
   "metadata": {},
   "outputs": [
    {
     "data": {
      "text/plain": [
       "(('name', None, None, None, None, None, None),)"
      ]
     },
     "execution_count": 8,
     "metadata": {},
     "output_type": "execute_result"
    }
   ],
   "source": [
    "cursor.description"
   ]
  },
  {
   "cell_type": "markdown",
   "metadata": {
    "slideshow": {
     "slide_type": "slide"
    }
   },
   "source": [
    "#### Get information about one table\n",
    "\n",
    "**A note about** `execute`<br>\n",
    "Each time you use it, you reset the value of cursor"
   ]
  },
  {
   "cell_type": "code",
   "execution_count": null,
   "metadata": {},
   "outputs": [],
   "source": [
    "cursor.execute(\"SELECT name,type FROM sqlite_master;\")\n",
    "print(cursor.fetchall())  "
   ]
  },
  {
   "cell_type": "code",
   "execution_count": null,
   "metadata": {},
   "outputs": [],
   "source": [
    "cursor.execute(\"SELECT * FROM airports\")"
   ]
  },
  {
   "cell_type": "code",
   "execution_count": 10,
   "metadata": {},
   "outputs": [
    {
     "data": {
      "text/plain": [
       "(0,\n",
       " '1',\n",
       " 'Goroka',\n",
       " 'Goroka',\n",
       " 'Papua New Guinea',\n",
       " 'GKA',\n",
       " 'AYGA',\n",
       " '-6.081689',\n",
       " '145.391881',\n",
       " '5282',\n",
       " '10',\n",
       " 'U',\n",
       " 'Pacific/Port_Moresby')"
      ]
     },
     "execution_count": 10,
     "metadata": {},
     "output_type": "execute_result"
    }
   ],
   "source": [
    "cursor.execute(\"SELECT * FROM airports\").fetchone() # as a means as airports"
   ]
  },
  {
   "cell_type": "code",
   "execution_count": null,
   "metadata": {},
   "outputs": [],
   "source": [
    "cursor.fetchone() # fetchone is showing results\n"
   ]
  },
  {
   "cell_type": "code",
   "execution_count": null,
   "metadata": {},
   "outputs": [],
   "source": [
    "cursor.fetchmany(4) # fetchone is showing results\n"
   ]
  },
  {
   "cell_type": "markdown",
   "metadata": {
    "slideshow": {
     "slide_type": "slide"
    }
   },
   "source": [
    "#### Use description"
   ]
  },
  {
   "cell_type": "code",
   "execution_count": null,
   "metadata": {
    "slideshow": {
     "slide_type": "fragment"
    }
   },
   "outputs": [],
   "source": [
    "cursor.description  #gives name of each colum"
   ]
  },
  {
   "cell_type": "markdown",
   "metadata": {
    "slideshow": {
     "slide_type": "slide"
    }
   },
   "source": [
    "#### Or use `Pragma`\n",
    "`Pragma` tool [link here](https://www.sqlite.org/pragma.html#pragma_table_info)\n",
    "\n",
    "**output**<br>\n",
    "`(column id, column name, data type, whether or not the column can be NULL, and the default value for the column)`"
   ]
  },
  {
   "cell_type": "code",
   "execution_count": null,
   "metadata": {
    "slideshow": {
     "slide_type": "slide"
    }
   },
   "outputs": [],
   "source": [
    "cursor.execute(\"PRAGMA table_info(airports)\")\n",
    "info = cursor.fetchall()\n",
    "print(*info, sep = \"\\n\") "
   ]
  },
  {
   "cell_type": "markdown",
   "metadata": {
    "slideshow": {
     "slide_type": "slide"
    }
   },
   "source": [
    "#### Making fetch happen\n",
    "\n",
    "`.fetchall()` is how you get the query results out of the object.\n",
    "\n",
    "You can also `.fetchone()` or `.fetchmany()`"
   ]
  },
  {
   "cell_type": "markdown",
   "metadata": {
    "slideshow": {
     "slide_type": "slide"
    }
   },
   "source": [
    "**Task:** Get the descriptive data for airlines and routes tables"
   ]
  },
  {
   "cell_type": "code",
   "execution_count": null,
   "metadata": {},
   "outputs": [],
   "source": [
    "cursor.execute(\"SELECT name FROM sqlite_master WHERE type='table';\")\n",
    "print(cursor.fetchall()) \n"
   ]
  },
  {
   "cell_type": "code",
   "execution_count": null,
   "metadata": {},
   "outputs": [],
   "source": [
    "#cursor.execute(\"SELECT name,type FROM sqlite_master;\")\n",
    "#print(cursor.fetchall())  "
   ]
  },
  {
   "cell_type": "code",
   "execution_count": null,
   "metadata": {},
   "outputs": [],
   "source": [
    "cursor.execute(\"SELECT * FROM routes\").fetchone() # as a means as airports"
   ]
  },
  {
   "cell_type": "code",
   "execution_count": null,
   "metadata": {},
   "outputs": [],
   "source": [
    "cursor.fetchmany(4)"
   ]
  },
  {
   "cell_type": "code",
   "execution_count": null,
   "metadata": {},
   "outputs": [],
   "source": [
    "cursor.description  #gives name of each colum"
   ]
  },
  {
   "cell_type": "code",
   "execution_count": null,
   "metadata": {},
   "outputs": [],
   "source": [
    "cursor.execute(\"PRAGMA table_info(routes)\")\n",
    "info = cursor.fetchall()\n",
    "print(*info, sep = \"\\n\")  # '\\n' print into a new line"
   ]
  },
  {
   "cell_type": "code",
   "execution_count": null,
   "metadata": {},
   "outputs": [],
   "source": []
  },
  {
   "cell_type": "markdown",
   "metadata": {
    "slideshow": {
     "slide_type": "slide"
    }
   },
   "source": [
    "***\n",
    "## Goal 4: Use basic SQL commands \n",
    "- Construct SQL queries\n",
    "- Use JOIN to merge tables along logical columns\n",
    "- Grouping Data with SQL"
   ]
  },
  {
   "cell_type": "code",
   "execution_count": null,
   "metadata": {},
   "outputs": [],
   "source": []
  },
  {
   "cell_type": "markdown",
   "metadata": {
    "slideshow": {
     "slide_type": "slide"
    }
   },
   "source": [
    "### Construct SQL queries"
   ]
  },
  {
   "cell_type": "markdown",
   "metadata": {
    "slideshow": {
     "slide_type": "fragment"
    }
   },
   "source": [
    "**Select**\n",
    "\n",
    "Selects columns from a table"
   ]
  },
  {
   "cell_type": "markdown",
   "metadata": {
    "slideshow": {
     "slide_type": "fragment"
    }
   },
   "source": [
    "**From**"
   ]
  },
  {
   "cell_type": "markdown",
   "metadata": {
    "slideshow": {
     "slide_type": "fragment"
    }
   },
   "source": [
    "**Where**"
   ]
  },
  {
   "cell_type": "markdown",
   "metadata": {
    "slideshow": {
     "slide_type": "fragment"
    }
   },
   "source": [
    "**Order by**"
   ]
  },
  {
   "cell_type": "markdown",
   "metadata": {
    "slideshow": {
     "slide_type": "fragment"
    }
   },
   "source": [
    "**Limit**"
   ]
  },
  {
   "cell_type": "markdown",
   "metadata": {
    "slideshow": {
     "slide_type": "slide"
    }
   },
   "source": [
    "#### Options for each:"
   ]
  },
  {
   "cell_type": "markdown",
   "metadata": {
    "slideshow": {
     "slide_type": "fragment"
    }
   },
   "source": [
    "**Select**:  `distinct`, using `as` to rename columns, single number aggregates"
   ]
  },
  {
   "cell_type": "markdown",
   "metadata": {
    "slideshow": {
     "slide_type": "fragment"
    }
   },
   "source": [
    "**From:** also uses aliasing with `as`"
   ]
  },
  {
   "cell_type": "markdown",
   "metadata": {
    "slideshow": {
     "slide_type": "fragment"
    }
   },
   "source": [
    "**Where**: equals is only one `=`, `between`, `in`, wildcards `%`, `AND`, `OR`, `NOT`"
   ]
  },
  {
   "cell_type": "markdown",
   "metadata": {
    "slideshow": {
     "slide_type": "fragment"
    }
   },
   "source": [
    "**Order by**: `asc` and `desc`"
   ]
  },
  {
   "cell_type": "markdown",
   "metadata": {
    "slideshow": {
     "slide_type": "fragment"
    }
   },
   "source": [
    "**Limit**:  #"
   ]
  },
  {
   "cell_type": "code",
   "execution_count": null,
   "metadata": {
    "slideshow": {
     "slide_type": "skip"
    }
   },
   "outputs": [],
   "source": [
    "SELECT "
   ]
  },
  {
   "cell_type": "markdown",
   "metadata": {
    "slideshow": {
     "slide_type": "slide"
    }
   },
   "source": [
    "**Task**: \n",
    "- Select only active airlines in the UK from the airlines table\n",
    "- Select the unique list of countries with airports"
   ]
  },
  {
   "cell_type": "code",
   "execution_count": 11,
   "metadata": {},
   "outputs": [
    {
     "data": {
      "text/plain": [
       "[(None,),\n",
       " ('United States',),\n",
       " ('South Africa',),\n",
       " ('United Kingdom',),\n",
       " ('Russia',),\n",
       " ('Thailand',),\n",
       " ('Canada',),\n",
       " ('Australia',),\n",
       " ('Singapore',),\n",
       " ('Belgium',),\n",
       " ('Mexico',),\n",
       " ('Spain',),\n",
       " ('France',),\n",
       " ('United Arab Emirates',),\n",
       " ('Republic of Korea',),\n",
       " ('Pakistan',),\n",
       " ('Libya',),\n",
       " ('Gambia',),\n",
       " ('Ivory Coast',),\n",
       " ('Ukraine',),\n",
       " ('Democratic Republic of the Congo',),\n",
       " ('Iran',),\n",
       " ('Finland',),\n",
       " ('Brazil',),\n",
       " ('Colombia',),\n",
       " ('AEROCENTER',),\n",
       " ('Ghana',),\n",
       " ('Kenya',),\n",
       " ('Liberia',),\n",
       " ('Togo',),\n",
       " ('Somali Republic',),\n",
       " ('Morocco',),\n",
       " ('Canadian Territories',),\n",
       " ('Dominican Republic',),\n",
       " ('Japan',),\n",
       " ('Albania',),\n",
       " ('Nigeria',),\n",
       " ('Germany',),\n",
       " ('Slovenia',),\n",
       " ('Czech Republic',),\n",
       " ('Benin',),\n",
       " ('AEROCESAR',),\n",
       " ('Greece',),\n",
       " ('Chile',),\n",
       " ('Tanzania',),\n",
       " ('Bolivia',),\n",
       " ('Italy',),\n",
       " ('Sweden',),\n",
       " ('Argentina',),\n",
       " ('Sierra Leone',),\n",
       " ('Indonesia',),\n",
       " ('Senegal',),\n",
       " ('Afghanistan',),\n",
       " ('Uganda',),\n",
       " ('Bosnia and Herzegovina',),\n",
       " ('Gabon',),\n",
       " ('Angola',),\n",
       " ('Uzbekistan',),\n",
       " ('Namibia',),\n",
       " ('Turkey',),\n",
       " ('Vietnam',),\n",
       " ('Zambia',),\n",
       " ('Venezuela',),\n",
       " ('Egypt',),\n",
       " ('Ireland',),\n",
       " ('Switzerland',),\n",
       " ('Serbia',),\n",
       " ('Peru',),\n",
       " ('Slovakia',),\n",
       " ('Denmark',),\n",
       " ('Azerbaijan',),\n",
       " ('AIRPORT HELICOPTER',),\n",
       " ('Hong Kong',),\n",
       " ('Croatia',),\n",
       " ('Hungary',),\n",
       " ('Estonia',),\n",
       " ('Swaziland',),\n",
       " ('India',),\n",
       " ('Reunion',),\n",
       " ('Iceland',),\n",
       " ('Israel',),\n",
       " ('Austria',),\n",
       " ('Jamaica',),\n",
       " ('Malta',),\n",
       " ('Portugal',),\n",
       " ('Cyprus',),\n",
       " ('Kazakhstan',),\n",
       " ('Kyrgyzstan',),\n",
       " ('Turkmenistan',),\n",
       " ('Kiribati',),\n",
       " ('Cambodia',),\n",
       " ('Netherlands Antilles',),\n",
       " ('Sao Tome and Principe',),\n",
       " ('ALNACIONAL',),\n",
       " ('Lithuania',),\n",
       " ('Maldives',),\n",
       " ('Malawi',),\n",
       " ('Moldova',),\n",
       " ('Montenegro',),\n",
       " ('Macao',),\n",
       " ('Seychelles',),\n",
       " ('Bulgaria',),\n",
       " ('Papua New Guinea',),\n",
       " ('Latvia',),\n",
       " ('ANTARES',),\n",
       " ('AVINOR',),\n",
       " ('New Zealand',),\n",
       " ('ALCON',),\n",
       " ('ASTORIA',),\n",
       " ('COMPANY AS',),\n",
       " ('Philippines',),\n",
       " ('AIRPAC',),\n",
       " ('AIRFLIGHT',),\n",
       " ('ASA PESADA',),\n",
       " ('AIR PRINT',),\n",
       " ('APPALACHIAN',),\n",
       " ('ALASKA PACIFIC',),\n",
       " ('AEROPERLAS',),\n",
       " ('AEROPUMA',),\n",
       " ('ATCO',),\n",
       " ('AVIOQUINTANA',),\n",
       " ('Aruba',),\n",
       " (' S.A.',),\n",
       " ('ARMSTRONG',),\n",
       " ('Armenia',),\n",
       " ('AIREX',),\n",
       " ('Chad',),\n",
       " ('ALASKA',),\n",
       " ('SCHEFF',),\n",
       " ('AEROSUN',),\n",
       " ('ALL STAR',),\n",
       " ('AIR CLASS',),\n",
       " ('Nepal',),\n",
       " ('Sudan',),\n",
       " ('Panama',),\n",
       " ('Guinea-Bissau',),\n",
       " ('ATLANTIS CANADA',),\n",
       " ('Burkina Faso',),\n",
       " ('Netherlands',),\n",
       " ('Ecuador',),\n",
       " ('AUDI AIR',),\n",
       " ('Uruguay',),\n",
       " ('AURORA AIR',),\n",
       " ('AUSA',),\n",
       " ('AVIANCA',),\n",
       " ('ALAMO',),\n",
       " ('Djibouti',),\n",
       " ('AVEMEX',),\n",
       " ('Vanuatu',),\n",
       " ('AQUILINE',),\n",
       " ('ACTIVE AERO',),\n",
       " ('Bangladesh',),\n",
       " ('Georgia',),\n",
       " ('El Salvador',),\n",
       " ('AEROVARADERO',),\n",
       " ('AIRNAT',),\n",
       " ('Niger',),\n",
       " ('Jordan',),\n",
       " ('AIRWAVE',),\n",
       " ('AEROWEE',),\n",
       " ('AIR FREIGHTER',),\n",
       " ('Malaysia',),\n",
       " ('RENTAXEL',),\n",
       " ('Macedonia',),\n",
       " ('AIRMAN',),\n",
       " ('ATLANTIC NICARAGUA',),\n",
       " ('AZIMUT',),\n",
       " ('Zimbabwe',),\n",
       " ('ARIZAIR',),\n",
       " ('Lebanon',),\n",
       " ('Guatemala',),\n",
       " ('Bahrain',),\n",
       " ('Barbados',),\n",
       " ('Botswana',),\n",
       " ('French Polynesia',),\n",
       " ('Russian Federation',),\n",
       " ('China',),\n",
       " ('Belize',),\n",
       " ('Mozambique',),\n",
       " ('Marshall Islands',),\n",
       " ('Algeria',),\n",
       " ('Ethiopia',),\n",
       " ('Air S',),\n",
       " ('Fiji',),\n",
       " ('Mali',),\n",
       " ('Faroe Islands',),\n",
       " ('Mauritania',),\n",
       " ('Cameroon',),\n",
       " ('Guinea',),\n",
       " ('Belarus',),\n",
       " ('French Guiana',),\n",
       " ('Haiti',),\n",
       " ('Comoros',),\n",
       " ('Honduras',),\n",
       " ('Norway',),\n",
       " ('Myanmar',),\n",
       " (\"Democratic People's Republic of Korea\",),\n",
       " ('Mauritius',),\n",
       " ('Madagascar',),\n",
       " ('Mongolia',),\n",
       " ('Burundi',),\n",
       " ('Sri Lanka',),\n",
       " ('Romania',),\n",
       " ('Republic of the Congo',),\n",
       " ('Rwanda',),\n",
       " ('Nicaragua',),\n",
       " ('Turks and Caicos Islands',),\n",
       " ('S',),\n",
       " ('Bahamas',),\n",
       " ('Suriname',),\n",
       " ('Syrian Arab Republic',),\n",
       " ('AIR-MAUR',),\n",
       " ('Cape Verde',),\n",
       " ('Luxembourg',),\n",
       " ('Oman',),\n",
       " ('Antigua and Barbuda',),\n",
       " ('Trinidad and Tobago',),\n",
       " ('Hong Kong SAR of China',),\n",
       " ('Cayman Islands',),\n",
       " ('Central African Republic',),\n",
       " ('Democratic Republic of Congo',),\n",
       " ('Poland',),\n",
       " ('Taiwan',),\n",
       " ('ASUR',),\n",
       " ('Paraguay',),\n",
       " ('Cuba',),\n",
       " ('DRAGON',),\n",
       " ('Bhutan',),\n",
       " ('Equatorial Guinea',),\n",
       " ('UNIFORM OSCAR',),\n",
       " ('Russia]]',),\n",
       " ('Eritrea',),\n",
       " ('Tunisia',),\n",
       " ('Costa Rica',),\n",
       " ('Saint Lucia',),\n",
       " ('Monaco',),\n",
       " ('Solomon Islands',),\n",
       " ('ALDAWLYH AIR',),\n",
       " ('Iraq',),\n",
       " ('Kuwait',),\n",
       " ('ODINN',),\n",
       " ('LAP',),\n",
       " ('Lao Peoples Democratic Republic',),\n",
       " ('Bermuda',),\n",
       " ('WATCHDOG',),\n",
       " ('Montserrat',),\n",
       " ('Nauru',),\n",
       " ('Saudi Arabia',),\n",
       " ('Palau',),\n",
       " ('Tonga',),\n",
       " ('Samoa',),\n",
       " ('Qatar',),\n",
       " ('UNited Kingdom',),\n",
       " ('Netherland',),\n",
       " ('Guyana',),\n",
       " ('Cook Islands',),\n",
       " ('Brunei',),\n",
       " ('ACOM',),\n",
       " (' Boonville Stage Line',),\n",
       " ('Saint Vincent and the Grenadines',),\n",
       " ('SWISSBIRD',),\n",
       " ('Yemen',),\n",
       " ('Tajikistan',),\n",
       " ('AEROSOL',),\n",
       " ('Saint Kitts and Nevis',),\n",
       " ('VELES',),\n",
       " (\"Cote d'Ivoire\",),\n",
       " ('\\\\N',),\n",
       " ('Burma',),\n",
       " ('South Korea',),\n",
       " ('Guadeloupe',),\n",
       " ('Congo (Kinshasa)',),\n",
       " ('Syria',),\n",
       " ('American Samoa',),\n",
       " ('British Virgin Islands',),\n",
       " ('Puerto Rico',),\n",
       " ('Congo (Brazzaville)',)]"
      ]
     },
     "execution_count": 11,
     "metadata": {},
     "output_type": "execute_result"
    }
   ],
   "source": [
    "cursor.execute(\"\"\"SELECT distinct country FROM airlines\"\"\").fetchall()"
   ]
  },
  {
   "cell_type": "code",
   "execution_count": 14,
   "metadata": {
    "scrolled": false
   },
   "outputs": [
    {
     "data": {
      "text/plain": [
       "[(None,),\n",
       " (' Boonville Stage Line',),\n",
       " (' S.A.',),\n",
       " ('ACOM',),\n",
       " ('ACTIVE AERO',),\n",
       " ('AEROCENTER',),\n",
       " ('AEROCESAR',),\n",
       " ('AEROPERLAS',),\n",
       " ('AEROPUMA',),\n",
       " ('AEROSOL',),\n",
       " ('AEROSUN',),\n",
       " ('AEROVARADERO',),\n",
       " ('AEROWEE',),\n",
       " ('AIR CLASS',),\n",
       " ('AIR FREIGHTER',),\n",
       " ('AIR PRINT',),\n",
       " ('AIR-MAUR',),\n",
       " ('AIREX',),\n",
       " ('AIRFLIGHT',),\n",
       " ('AIRMAN',),\n",
       " ('AIRNAT',),\n",
       " ('AIRPAC',),\n",
       " ('AIRPORT HELICOPTER',),\n",
       " ('AIRWAVE',),\n",
       " ('ALAMO',),\n",
       " ('ALASKA',),\n",
       " ('ALASKA PACIFIC',),\n",
       " ('ALCON',),\n",
       " ('ALDAWLYH AIR',),\n",
       " ('ALL STAR',),\n",
       " ('ALNACIONAL',),\n",
       " ('ANTARES',),\n",
       " ('APPALACHIAN',),\n",
       " ('AQUILINE',),\n",
       " ('ARIZAIR',),\n",
       " ('ARMSTRONG',),\n",
       " ('ASA PESADA',),\n",
       " ('ASTORIA',),\n",
       " ('ASUR',),\n",
       " ('ATCO',),\n",
       " ('ATLANTIC NICARAGUA',),\n",
       " ('ATLANTIS CANADA',),\n",
       " ('AUDI AIR',),\n",
       " ('AURORA AIR',),\n",
       " ('AUSA',),\n",
       " ('AVEMEX',),\n",
       " ('AVIANCA',),\n",
       " ('AVINOR',),\n",
       " ('AVIOQUINTANA',),\n",
       " ('AZIMUT',),\n",
       " ('Afghanistan',),\n",
       " ('Air S',),\n",
       " ('Albania',),\n",
       " ('Algeria',),\n",
       " ('American Samoa',),\n",
       " ('Angola',),\n",
       " ('Antigua and Barbuda',),\n",
       " ('Argentina',),\n",
       " ('Armenia',),\n",
       " ('Aruba',),\n",
       " ('Australia',),\n",
       " ('Austria',),\n",
       " ('Azerbaijan',),\n",
       " ('Bahamas',),\n",
       " ('Bahrain',),\n",
       " ('Bangladesh',),\n",
       " ('Barbados',),\n",
       " ('Belarus',),\n",
       " ('Belgium',),\n",
       " ('Belize',),\n",
       " ('Benin',),\n",
       " ('Bermuda',),\n",
       " ('Bhutan',),\n",
       " ('Bolivia',),\n",
       " ('Bosnia and Herzegovina',),\n",
       " ('Botswana',),\n",
       " ('Brazil',),\n",
       " ('British Virgin Islands',),\n",
       " ('Brunei',),\n",
       " ('Bulgaria',),\n",
       " ('Burkina Faso',),\n",
       " ('Burma',),\n",
       " ('Burundi',),\n",
       " ('COMPANY AS',),\n",
       " ('Cambodia',),\n",
       " ('Cameroon',),\n",
       " ('Canada',),\n",
       " ('Canadian Territories',),\n",
       " ('Cape Verde',),\n",
       " ('Cayman Islands',),\n",
       " ('Central African Republic',),\n",
       " ('Chad',),\n",
       " ('Chile',),\n",
       " ('China',),\n",
       " ('Colombia',),\n",
       " ('Comoros',),\n",
       " ('Congo (Brazzaville)',),\n",
       " ('Congo (Kinshasa)',),\n",
       " ('Cook Islands',),\n",
       " ('Costa Rica',),\n",
       " (\"Cote d'Ivoire\",),\n",
       " ('Croatia',),\n",
       " ('Cuba',),\n",
       " ('Cyprus',),\n",
       " ('Czech Republic',),\n",
       " ('DRAGON',),\n",
       " (\"Democratic People's Republic of Korea\",),\n",
       " ('Democratic Republic of Congo',),\n",
       " ('Democratic Republic of the Congo',),\n",
       " ('Denmark',),\n",
       " ('Djibouti',),\n",
       " ('Dominican Republic',),\n",
       " ('Ecuador',),\n",
       " ('Egypt',),\n",
       " ('El Salvador',),\n",
       " ('Equatorial Guinea',),\n",
       " ('Eritrea',),\n",
       " ('Estonia',),\n",
       " ('Ethiopia',),\n",
       " ('Faroe Islands',),\n",
       " ('Fiji',),\n",
       " ('Finland',),\n",
       " ('France',),\n",
       " ('French Guiana',),\n",
       " ('French Polynesia',),\n",
       " ('Gabon',),\n",
       " ('Gambia',),\n",
       " ('Georgia',),\n",
       " ('Germany',),\n",
       " ('Ghana',),\n",
       " ('Greece',),\n",
       " ('Guadeloupe',),\n",
       " ('Guatemala',),\n",
       " ('Guinea',),\n",
       " ('Guinea-Bissau',),\n",
       " ('Guyana',),\n",
       " ('Haiti',),\n",
       " ('Honduras',),\n",
       " ('Hong Kong',),\n",
       " ('Hong Kong SAR of China',),\n",
       " ('Hungary',),\n",
       " ('Iceland',),\n",
       " ('India',),\n",
       " ('Indonesia',),\n",
       " ('Iran',),\n",
       " ('Iraq',),\n",
       " ('Ireland',),\n",
       " ('Israel',),\n",
       " ('Italy',),\n",
       " ('Ivory Coast',),\n",
       " ('Jamaica',),\n",
       " ('Japan',),\n",
       " ('Jordan',),\n",
       " ('Kazakhstan',),\n",
       " ('Kenya',),\n",
       " ('Kiribati',),\n",
       " ('Kuwait',),\n",
       " ('Kyrgyzstan',),\n",
       " ('LAP',),\n",
       " ('Lao Peoples Democratic Republic',),\n",
       " ('Latvia',),\n",
       " ('Lebanon',),\n",
       " ('Liberia',),\n",
       " ('Libya',),\n",
       " ('Lithuania',),\n",
       " ('Luxembourg',),\n",
       " ('Macao',),\n",
       " ('Macedonia',),\n",
       " ('Madagascar',),\n",
       " ('Malawi',),\n",
       " ('Malaysia',),\n",
       " ('Maldives',),\n",
       " ('Mali',),\n",
       " ('Malta',),\n",
       " ('Marshall Islands',),\n",
       " ('Mauritania',),\n",
       " ('Mauritius',),\n",
       " ('Mexico',),\n",
       " ('Moldova',),\n",
       " ('Monaco',),\n",
       " ('Mongolia',),\n",
       " ('Montenegro',),\n",
       " ('Montserrat',),\n",
       " ('Morocco',),\n",
       " ('Mozambique',),\n",
       " ('Myanmar',),\n",
       " ('Namibia',),\n",
       " ('Nauru',),\n",
       " ('Nepal',),\n",
       " ('Netherland',),\n",
       " ('Netherlands',),\n",
       " ('Netherlands Antilles',),\n",
       " ('New Zealand',),\n",
       " ('Nicaragua',),\n",
       " ('Niger',),\n",
       " ('Nigeria',),\n",
       " ('Norway',),\n",
       " ('ODINN',),\n",
       " ('Oman',),\n",
       " ('Pakistan',),\n",
       " ('Palau',),\n",
       " ('Panama',),\n",
       " ('Papua New Guinea',),\n",
       " ('Paraguay',),\n",
       " ('Peru',),\n",
       " ('Philippines',),\n",
       " ('Poland',),\n",
       " ('Portugal',),\n",
       " ('Puerto Rico',),\n",
       " ('Qatar',),\n",
       " ('RENTAXEL',),\n",
       " ('Republic of Korea',),\n",
       " ('Republic of the Congo',),\n",
       " ('Reunion',),\n",
       " ('Romania',),\n",
       " ('Russia',),\n",
       " ('Russia]]',),\n",
       " ('Russian Federation',),\n",
       " ('Rwanda',),\n",
       " ('S',),\n",
       " ('SCHEFF',),\n",
       " ('SWISSBIRD',),\n",
       " ('Saint Kitts and Nevis',),\n",
       " ('Saint Lucia',),\n",
       " ('Saint Vincent and the Grenadines',),\n",
       " ('Samoa',),\n",
       " ('Sao Tome and Principe',),\n",
       " ('Saudi Arabia',),\n",
       " ('Senegal',),\n",
       " ('Serbia',),\n",
       " ('Seychelles',),\n",
       " ('Sierra Leone',),\n",
       " ('Singapore',),\n",
       " ('Slovakia',),\n",
       " ('Slovenia',),\n",
       " ('Solomon Islands',),\n",
       " ('Somali Republic',),\n",
       " ('South Africa',),\n",
       " ('South Korea',),\n",
       " ('Spain',),\n",
       " ('Sri Lanka',),\n",
       " ('Sudan',),\n",
       " ('Suriname',),\n",
       " ('Swaziland',),\n",
       " ('Sweden',),\n",
       " ('Switzerland',),\n",
       " ('Syria',),\n",
       " ('Syrian Arab Republic',),\n",
       " ('Taiwan',),\n",
       " ('Tajikistan',),\n",
       " ('Tanzania',),\n",
       " ('Thailand',),\n",
       " ('Togo',),\n",
       " ('Tonga',),\n",
       " ('Trinidad and Tobago',),\n",
       " ('Tunisia',),\n",
       " ('Turkey',),\n",
       " ('Turkmenistan',),\n",
       " ('Turks and Caicos Islands',),\n",
       " ('UNIFORM OSCAR',),\n",
       " ('UNited Kingdom',),\n",
       " ('Uganda',),\n",
       " ('Ukraine',),\n",
       " ('United Arab Emirates',),\n",
       " ('United Kingdom',),\n",
       " ('United States',),\n",
       " ('Uruguay',),\n",
       " ('Uzbekistan',),\n",
       " ('VELES',),\n",
       " ('Vanuatu',),\n",
       " ('Venezuela',),\n",
       " ('Vietnam',),\n",
       " ('WATCHDOG',),\n",
       " ('Yemen',),\n",
       " ('Zambia',),\n",
       " ('Zimbabwe',),\n",
       " ('\\\\N',)]"
      ]
     },
     "execution_count": 14,
     "metadata": {},
     "output_type": "execute_result"
    }
   ],
   "source": [
    "cursor.execute(\"\"\"SELECT distinct country FROM airlines  order by country asc \"\"\").fetchall()"
   ]
  },
  {
   "cell_type": "code",
   "execution_count": null,
   "metadata": {},
   "outputs": [],
   "source": []
  },
  {
   "cell_type": "code",
   "execution_count": null,
   "metadata": {},
   "outputs": [],
   "source": [
    "cursor.execute(\"\"\"SELECT name FROM airlines  WHERE active ='Y' AND country= 'United Kingdom' \"\"\")"
   ]
  },
  {
   "cell_type": "markdown",
   "metadata": {
    "slideshow": {
     "slide_type": "slide"
    }
   },
   "source": [
    "### SQL Joins"
   ]
  },
  {
   "cell_type": "markdown",
   "metadata": {
    "slideshow": {
     "slide_type": "fragment"
    }
   },
   "source": [
    "SQL joins can be used to both **add** data to a table and **remove** data from a table. "
   ]
  },
  {
   "cell_type": "markdown",
   "metadata": {
    "slideshow": {
     "slide_type": "fragment"
    }
   },
   "source": [
    "![venn](img/venn.png)"
   ]
  },
  {
   "cell_type": "markdown",
   "metadata": {
    "slideshow": {
     "slide_type": "slide"
    }
   },
   "source": [
    "**Task** Write a query that will join the latitude and longitude data from the airports table to the information on the routes table"
   ]
  },
  {
   "cell_type": "code",
   "execution_count": null,
   "metadata": {
    "slideshow": {
     "slide_type": "skip"
    }
   },
   "outputs": [],
   "source": [
    "cursor.execute(\"\"\"SELECT * FROM airports\"\"\")"
   ]
  },
  {
   "cell_type": "code",
   "execution_count": null,
   "metadata": {},
   "outputs": [],
   "source": [
    "cursor.execute(\"PRAGMA table_info(airports)\")\n",
    "info = cursor.fetchall()\n",
    "print(*info, sep = \"\\n\") "
   ]
  },
  {
   "cell_type": "markdown",
   "metadata": {
    "slideshow": {
     "slide_type": "slide"
    }
   },
   "source": [
    "### Grouping statements\n",
    "\n",
    "Combines `select` and `group by` when you want aggregates by values"
   ]
  },
  {
   "cell_type": "markdown",
   "metadata": {
    "slideshow": {
     "slide_type": "fragment"
    }
   },
   "source": [
    "`select` `min(x)` ... `max()`, `sum()`, etc"
   ]
  },
  {
   "cell_type": "markdown",
   "metadata": {
    "slideshow": {
     "slide_type": "fragment"
    }
   },
   "source": [
    "`group by x`"
   ]
  },
  {
   "cell_type": "markdown",
   "metadata": {
    "slideshow": {
     "slide_type": "slide"
    }
   },
   "source": [
    "**Task**<br>\n",
    "- Which countries have the highest amount of active airports?\n",
    "- Which countries have the highest amount of inactive airports?\n",
    "- What about airports by timezones?"
   ]
  },
  {
   "cell_type": "code",
   "execution_count": null,
   "metadata": {
    "slideshow": {
     "slide_type": "skip"
    }
   },
   "outputs": [],
   "source": []
  },
  {
   "cell_type": "markdown",
   "metadata": {
    "slideshow": {
     "slide_type": "slide"
    }
   },
   "source": [
    "## Goal 5: Using sql within pandas to filter\n",
    "\n",
    "`.query()`\n",
    "\n",
    "[query documentation](https://pandas.pydata.org/pandas-docs/stable/reference/api/pandas.DataFrame.query.html)"
   ]
  },
  {
   "cell_type": "code",
   "execution_count": null,
   "metadata": {
    "slideshow": {
     "slide_type": "slide"
    }
   },
   "outputs": [],
   "source": [
    "# Get data for an example\n",
    "import pandas as pd\n",
    "shelter_data=pd.read_csv('https://data.austintexas.gov/api/views/9t4d-g238/rows.csv?accessType=DOWNLOAD')\n",
    "shelter_data.dtypes"
   ]
  },
  {
   "cell_type": "code",
   "execution_count": null,
   "metadata": {
    "slideshow": {
     "slide_type": "slide"
    }
   },
   "outputs": [],
   "source": [
    "max_data = shelter_data.query('Name == \"Max\"')\n",
    "max_data.head()\n",
    "#vs\n",
    "shelter_data[shelter_data['Name']==\"Max\"]"
   ]
  },
  {
   "cell_type": "code",
   "execution_count": null,
   "metadata": {
    "slideshow": {
     "slide_type": "slide"
    }
   },
   "outputs": [],
   "source": [
    "shelter_data.rename(index=str, columns={\"Animal Type\": \"animal_type\"}, inplace = True)\n",
    "test = shelter_data.query('animal_type == \"Dog\"')\n",
    "test.head()"
   ]
  },
  {
   "cell_type": "markdown",
   "metadata": {
    "slideshow": {
     "slide_type": "slide"
    }
   },
   "source": [
    "## Goal 6: Transfering from sqlite to pandas forAnalysis"
   ]
  },
  {
   "cell_type": "code",
   "execution_count": null,
   "metadata": {
    "slideshow": {
     "slide_type": "fragment"
    }
   },
   "outputs": [],
   "source": [
    "conn = sqlite3.connect(\"flights.db\")\n",
    "df = pd.read_sql_query(\"SELECT distinct country FROM airline;\", conn)\n",
    "df"
   ]
  },
  {
   "cell_type": "markdown",
   "metadata": {
    "slideshow": {
     "slide_type": "slide"
    }
   },
   "source": [
    "**Task**: \n",
    "Convert one of the earlier queries in the lesson to a pandas data frame"
   ]
  },
  {
   "cell_type": "markdown",
   "metadata": {
    "slideshow": {
     "slide_type": "slide"
    }
   },
   "source": [
    "## Integration\n",
    "\n",
    "The [Chinook database](https://github.com/lerocha/chinook-database) is a sample database, representing a digital media store.\n",
    "\n",
    "You need to create a query that can rank tracks in term of popularity.\n",
    "\n",
    "The name of the database is `Chinook_Sqlite.sqlite`"
   ]
  },
  {
   "cell_type": "markdown",
   "metadata": {
    "slideshow": {
     "slide_type": "slide"
    }
   },
   "source": [
    "Database information:<br>\n",
    "- How many tables are in the database?\n",
    "- What's the primary key of each table?\n",
    "- What foreign keys join the tables together?\n",
    "- If you had to draw a schema of how the tables are connected, what would it look like?"
   ]
  },
  {
   "cell_type": "markdown",
   "metadata": {
    "slideshow": {
     "slide_type": "slide"
    }
   },
   "source": [
    "To answer the question:<br>\n",
    "- What are the max and min dates in the Invoice table?\n",
    "- What tables would you need to answer \"what is your most popular track?\"\n",
    "- What values from each table?"
   ]
  },
  {
   "cell_type": "code",
   "execution_count": null,
   "metadata": {
    "slideshow": {
     "slide_type": "skip"
    }
   },
   "outputs": [],
   "source": []
  },
  {
   "cell_type": "markdown",
   "metadata": {
    "slideshow": {
     "slide_type": "slide"
    }
   },
   "source": [
    "## Reflection"
   ]
  },
  {
   "cell_type": "code",
   "execution_count": null,
   "metadata": {},
   "outputs": [],
   "source": []
  },
  {
   "cell_type": "code",
   "execution_count": null,
   "metadata": {},
   "outputs": [],
   "source": []
  },
  {
   "cell_type": "code",
   "execution_count": null,
   "metadata": {},
   "outputs": [],
   "source": []
  }
 ],
 "metadata": {
  "kernelspec": {
   "display_name": "Python 3",
   "language": "python",
   "name": "python3"
  },
  "language_info": {
   "codemirror_mode": {
    "name": "ipython",
    "version": 3
   },
   "file_extension": ".py",
   "mimetype": "text/x-python",
   "name": "python",
   "nbconvert_exporter": "python",
   "pygments_lexer": "ipython3",
   "version": "3.7.3"
  }
 },
 "nbformat": 4,
 "nbformat_minor": 2
}
