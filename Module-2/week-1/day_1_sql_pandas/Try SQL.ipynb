{
 "cells": [
  {
   "cell_type": "code",
   "execution_count": 3,
   "metadata": {},
   "outputs": [],
   "source": [
    "import sqlite3 # import sql liteb"
   ]
  },
  {
   "cell_type": "code",
   "execution_count": 5,
   "metadata": {},
   "outputs": [],
   "source": [
    "import pandas as pd"
   ]
  },
  {
   "cell_type": "code",
   "execution_count": 4,
   "metadata": {},
   "outputs": [
    {
     "name": "stdout",
     "output_type": "stream",
     "text": [
      "total 6697\n",
      "drwxr-xr-x 1 kwaku 197609       0 Aug  1 12:33 .\n",
      "drwxr-xr-x 1 kwaku 197609       0 Aug  1 09:34 ..\n",
      "drwxr-xr-x 1 kwaku 197609       0 Aug  1 12:33 .ipynb_checkpoints\n",
      "-rw-r--r-- 1 kwaku 197609 1067008 Aug  1 09:34 Chinook_Sqlite.sqlite\n",
      "-rw-r--r-- 1 kwaku 197609 5415936 Aug  1 09:34 flights.db\n",
      "drwxr-xr-x 1 kwaku 197609       0 Aug  1 09:34 img\n",
      "-rw-r--r-- 1 kwaku 197609   23081 Aug  1 12:33 sql-to-pandas.ipynb\n",
      "-rw-r--r-- 1 kwaku 197609  331930 Aug  1 09:34 sql-to-pandas.slides.html\n",
      "-rw-r--r-- 1 kwaku 197609      72 Aug  1 12:33 Try SQL.ipynb\n"
     ]
    }
   ],
   "source": [
    "!ls -la\n",
    "# checking directory\n",
    "#<alias ls for 'dir /on'>"
   ]
  },
  {
   "cell_type": "markdown",
   "metadata": {},
   "source": [
    "## Loading the Database"
   ]
  },
  {
   "cell_type": "code",
   "execution_count": 6,
   "metadata": {},
   "outputs": [],
   "source": [
    "# Create the connection\n",
    "linking_db = sqlite3.connect('flights.db')"
   ]
  },
  {
   "cell_type": "markdown",
   "metadata": {},
   "source": [
    "Once we have a Connection object, we can then create a Cursor object. Cursors allow us to execute SQL queries against a database:"
   ]
  },
  {
   "cell_type": "code",
   "execution_count": 7,
   "metadata": {},
   "outputs": [],
   "source": [
    "cur = linking_db.cursor()"
   ]
  },
  {
   "cell_type": "markdown",
   "metadata": {},
   "source": [
    "### Use sqlite_master to find all the tables in the schema\n",
    "#### Get the schema of a database from a db in sqlite"
   ]
  },
  {
   "cell_type": "markdown",
   "metadata": {},
   "source": [
    "### Once we have a Cursor object, we can use it to execute a query against the database with the aptly named ### execute method. The below code will fetch the first 5 rows from the airlines table:"
   ]
  },
  {
   "cell_type": "code",
   "execution_count": 9,
   "metadata": {},
   "outputs": [
    {
     "name": "stdout",
     "output_type": "stream",
     "text": [
      "[('airports',), ('airlines',), ('routes',)]\n"
     ]
    }
   ],
   "source": [
    "cur.execute(\"SELECT name FROM sqlite_master WHERE type= 'table'\")\n",
    "\n",
    "print (cur.fetchall())"
   ]
  },
  {
   "cell_type": "markdown",
   "metadata": {},
   "source": [
    "##### the flight database has 3 data sets"
   ]
  },
  {
   "cell_type": "code",
   "execution_count": null,
   "metadata": {},
   "outputs": [],
   "source": []
  },
  {
   "cell_type": "code",
   "execution_count": 14,
   "metadata": {},
   "outputs": [
    {
     "name": "stdout",
     "output_type": "stream",
     "text": [
      "[(0, '1', 'Goroka', 'Goroka', 'Papua New Guinea', 'GKA', 'AYGA', '-6.081689', '145.391881', '5282', '10', 'U', 'Pacific/Port_Moresby'), (1, '2', 'Madang', 'Madang', 'Papua New Guinea', 'MAG', 'AYMD', '-5.207083', '145.7887', '20', '10', 'U', 'Pacific/Port_Moresby'), (2, '3', 'Mount Hagen', 'Mount Hagen', 'Papua New Guinea', 'HGU', 'AYMH', '-5.826789', '144.295861', '5388', '10', 'U', 'Pacific/Port_Moresby'), (3, '4', 'Nadzab', 'Nadzab', 'Papua New Guinea', 'LAE', 'AYNZ', '-6.569828', '146.726242', '239', '10', 'U', 'Pacific/Port_Moresby'), (4, '5', 'Port Moresby Jacksons Intl', 'Port Moresby', 'Papua New Guinea', 'POM', 'AYPY', '-9.443383', '147.22005', '146', '10', 'U', 'Pacific/Port_Moresby')]\n"
     ]
    }
   ],
   "source": [
    "# we are going to look into the Airports database. and use fetchall to see the info mation in it\n",
    "##cur.execute(\"select * from airlines limit 5;\")\n",
    "\n",
    "cur.execute(\"SELECT * FROM airports limit 5;\")\n",
    "results = cur.fetchall()\n",
    "print(results)"
   ]
  },
  {
   "cell_type": "code",
   "execution_count": 18,
   "metadata": {},
   "outputs": [
    {
     "data": {
      "text/plain": [
       "(0,\n",
       " '1',\n",
       " 'Goroka',\n",
       " 'Goroka',\n",
       " 'Papua New Guinea',\n",
       " 'GKA',\n",
       " 'AYGA',\n",
       " '-6.081689',\n",
       " '145.391881',\n",
       " '5282',\n",
       " '10',\n",
       " 'U',\n",
       " 'Pacific/Port_Moresby')"
      ]
     },
     "execution_count": 18,
     "metadata": {},
     "output_type": "execute_result"
    }
   ],
   "source": [
    "cur.execute(\"SELECT * FROM airports;\").fetchone()\n",
    "## this returns row information on the airport data\n"
   ]
  },
  {
   "cell_type": "code",
   "execution_count": 22,
   "metadata": {},
   "outputs": [
    {
     "data": {
      "text/plain": [
       "[(0,\n",
       "  '1',\n",
       "  'Goroka',\n",
       "  'Goroka',\n",
       "  'Papua New Guinea',\n",
       "  'GKA',\n",
       "  'AYGA',\n",
       "  '-6.081689',\n",
       "  '145.391881',\n",
       "  '5282',\n",
       "  '10',\n",
       "  'U',\n",
       "  'Pacific/Port_Moresby'),\n",
       " (1,\n",
       "  '2',\n",
       "  'Madang',\n",
       "  'Madang',\n",
       "  'Papua New Guinea',\n",
       "  'MAG',\n",
       "  'AYMD',\n",
       "  '-5.207083',\n",
       "  '145.7887',\n",
       "  '20',\n",
       "  '10',\n",
       "  'U',\n",
       "  'Pacific/Port_Moresby')]"
      ]
     },
     "execution_count": 22,
     "metadata": {},
     "output_type": "execute_result"
    }
   ],
   "source": [
    "cur.execute(\"SELECT * FROM airports;\").fetchmany(2)"
   ]
  },
  {
   "cell_type": "code",
   "execution_count": 20,
   "metadata": {},
   "outputs": [
    {
     "data": {
      "text/plain": [
       "(('index', None, None, None, None, None, None),\n",
       " ('id', None, None, None, None, None, None),\n",
       " ('name', None, None, None, None, None, None),\n",
       " ('city', None, None, None, None, None, None),\n",
       " ('country', None, None, None, None, None, None),\n",
       " ('code', None, None, None, None, None, None),\n",
       " ('icao', None, None, None, None, None, None),\n",
       " ('latitude', None, None, None, None, None, None),\n",
       " ('longitude', None, None, None, None, None, None),\n",
       " ('altitude', None, None, None, None, None, None),\n",
       " ('offset', None, None, None, None, None, None),\n",
       " ('dst', None, None, None, None, None, None),\n",
       " ('timezone', None, None, None, None, None, None))"
      ]
     },
     "execution_count": 20,
     "metadata": {},
     "output_type": "execute_result"
    }
   ],
   "source": [
    "cur.description\n",
    "## gives out the columns"
   ]
  },
  {
   "cell_type": "code",
   "execution_count": 23,
   "metadata": {},
   "outputs": [],
   "source": [
    "# we can also use the PRAGMA for the columns too"
   ]
  },
  {
   "cell_type": "code",
   "execution_count": 24,
   "metadata": {},
   "outputs": [
    {
     "name": "stdout",
     "output_type": "stream",
     "text": [
      "(0, 'index', 'INTEGER', 0, None, 0)\n",
      "(1, 'id', 'TEXT', 0, None, 0)\n",
      "(2, 'name', 'TEXT', 0, None, 0)\n",
      "(3, 'city', 'TEXT', 0, None, 0)\n",
      "(4, 'country', 'TEXT', 0, None, 0)\n",
      "(5, 'code', 'TEXT', 0, None, 0)\n",
      "(6, 'icao', 'TEXT', 0, None, 0)\n",
      "(7, 'latitude', 'TEXT', 0, None, 0)\n",
      "(8, 'longitude', 'TEXT', 0, None, 0)\n",
      "(9, 'altitude', 'TEXT', 0, None, 0)\n",
      "(10, 'offset', 'TEXT', 0, None, 0)\n",
      "(11, 'dst', 'TEXT', 0, None, 0)\n",
      "(12, 'timezone', 'TEXT', 0, None, 0)\n"
     ]
    }
   ],
   "source": [
    "cur.execute(\"PRAGMA table_info(airports)\")\n",
    "info = cur.fetchall()\n",
    "print(*info, sep = \"\\n\") "
   ]
  },
  {
   "cell_type": "markdown",
   "metadata": {},
   "source": [
    "## Basic SQL commands\n"
   ]
  },
  {
   "cell_type": "markdown",
   "metadata": {},
   "source": [
    "Construct SQL queries\n",
    "Use JOIN to merge tables along logical columns\n",
    "Grouping Data with SQL"
   ]
  },
  {
   "cell_type": "markdown",
   "metadata": {},
   "source": [
    "Select only active airlines in the UK from the airlines table"
   ]
  },
  {
   "cell_type": "code",
   "execution_count": 42,
   "metadata": {},
   "outputs": [
    {
     "data": {
      "text/plain": [
       "[('Belfast Intl',),\n",
       " ('St Angelo',),\n",
       " ('Belfast City',),\n",
       " ('City of Derry',),\n",
       " ('Birmingham',),\n",
       " ('Coventry',),\n",
       " ('Leicester',),\n",
       " ('Gloucestershire',),\n",
       " ('Wolverhampton',),\n",
       " ('Kemble',),\n",
       " ('Turweston',),\n",
       " ('Wellesbourne Mountford',),\n",
       " ('Manchester',),\n",
       " ('Manchester Woodford',),\n",
       " ('Chivenor',),\n",
       " ('St Mawgan',),\n",
       " ('Lyneham',),\n",
       " ('Boscombe Down',),\n",
       " ('Culdrose',),\n",
       " ('St Athan',),\n",
       " ('Yeovilton',),\n",
       " ('Haverfordwest',),\n",
       " ('Cardiff',),\n",
       " ('Swansea',),\n",
       " ('Bristol',),\n",
       " ('Liverpool',),\n",
       " ('Luton',),\n",
       " ('Plymouth',),\n",
       " ('Bournemouth',),\n",
       " ('Southampton',),\n",
       " ('Lasham',),\n",
       " ('Shoreham',),\n",
       " ('Biggin Hill',),\n",
       " ('Gatwick',),\n",
       " ('City',),\n",
       " ('Farnborough',),\n",
       " ('Chalgrove',),\n",
       " ('Blackbushe',),\n",
       " ('Heathrow',),\n",
       " ('Southend',),\n",
       " ('Lydd',),\n",
       " ('Manston',),\n",
       " ('Brough',),\n",
       " ('Carlisle',),\n",
       " ('Gamston',),\n",
       " ('Blackpool',),\n",
       " ('Humberside',),\n",
       " ('Walney Island',),\n",
       " ('Leeds Bradford',),\n",
       " ('Warton',),\n",
       " ('Hawarden',),\n",
       " ('Newcastle',),\n",
       " ('Durham Tees Valley Airport',),\n",
       " ('Nottingham East Midlands',),\n",
       " ('Llanbedr',),\n",
       " ('Ternhill',),\n",
       " ('Shawbury',),\n",
       " ('Woodvale',),\n",
       " ('Kirkwall',),\n",
       " ('Sumburgh',),\n",
       " ('Wick',),\n",
       " ('Dyce',),\n",
       " ('Inverness',),\n",
       " ('Glasgow',),\n",
       " ('Edinburgh',),\n",
       " ('Islay',),\n",
       " ('Prestwick',),\n",
       " ('Benbecula',),\n",
       " ('Scatsta',),\n",
       " ('Dundee',),\n",
       " ('Stornoway',),\n",
       " ('Tiree',),\n",
       " ('Leuchars',),\n",
       " ('Lossiemouth',),\n",
       " ('Cambridge',),\n",
       " ('Conington',),\n",
       " ('Norwich',),\n",
       " ('Stansted',),\n",
       " ('North Weald',),\n",
       " ('Sheffield City',),\n",
       " ('Cranfield',),\n",
       " ('Exeter',),\n",
       " ('Bristol Filton',),\n",
       " ('Kidlington',),\n",
       " ('Benson',),\n",
       " ('Lakenheath',),\n",
       " ('Mildenhall',),\n",
       " ('Wattisham',),\n",
       " ('Wyton',),\n",
       " ('Fairford',),\n",
       " ('Brize Norton',),\n",
       " ('Odiham',),\n",
       " ('Cosford',),\n",
       " ('Northolt',),\n",
       " ('Coningsby',),\n",
       " ('Dishforth',),\n",
       " ('Leeming',),\n",
       " ('Church Fenton',),\n",
       " ('Honington',),\n",
       " ('Cottesmore',),\n",
       " ('Scampton',),\n",
       " ('Wittering',),\n",
       " ('Linton On Ouse',),\n",
       " ('Waddington',),\n",
       " ('Topcliffe',),\n",
       " ('Cranwell',),\n",
       " ('Barkston Heath',),\n",
       " ('Marham',),\n",
       " ('Ashford',),\n",
       " ('RNAS WATTON',),\n",
       " ('ISLES OF SCILLY',),\n",
       " ('Papa Stour Airport',),\n",
       " ('Outer Skerries Airport',),\n",
       " ('Foula Airport',),\n",
       " ('Barra Airport',),\n",
       " ('Anglesey Airport',),\n",
       " ('Penzance Heliport',),\n",
       " (\"Land's End / St. Just Airport\",),\n",
       " ('Westray Airport',),\n",
       " ('Lerwick / Tingwall Airport',),\n",
       " ('Sanday Airport',),\n",
       " ('Stronsay Airport',),\n",
       " ('Papa Westray Airport',),\n",
       " ('North Ronaldsay Airport',),\n",
       " ('Fair Isle Airport',),\n",
       " ('Eday Airport',),\n",
       " ('Campbeltown Airport',),\n",
       " ('Robin Hood Doncaster Sheffield Airport',),\n",
       " ('Nottingham Airport',),\n",
       " ('Unst Airport',),\n",
       " ('Oban Airport',),\n",
       " ('Sandown',),\n",
       " ('Fort William Heliport',),\n",
       " ('Portsmouth Airport',),\n",
       " ('Aberdeen Railway Station',),\n",
       " ('Glasgow Railway Station',),\n",
       " ('Edinburgh Waverly Station',),\n",
       " ('Newcastle Railway Station',),\n",
       " ('Leeds Railway Station',),\n",
       " ('Manchester Picadilly Station',),\n",
       " ('Liverpool Railway Station',),\n",
       " ('London Euston Railway Station',),\n",
       " ('Colonsay Airport',),\n",
       " ('Coll Airport',),\n",
       " ('Tresco Heliport',),\n",
       " ('Paddington Station',),\n",
       " ('Glasgow Buchanan Bus Station',),\n",
       " ('London Victoria Bus Station',),\n",
       " ('London St Pancras',),\n",
       " ('Wideawake Field',),\n",
       " ('London Heliport',),\n",
       " ('Southampton Cruise Terminal',),\n",
       " ('White Waltham Airfield',),\n",
       " ('Booker',),\n",
       " ('Bembridge',),\n",
       " ('Hatfield',),\n",
       " ('St Pancras Railway Station',),\n",
       " ('Oldbury',),\n",
       " ('Shaftesbury-Compton Abbas Aerodrome',),\n",
       " ('Ferry Port',),\n",
       " ('Glasgow City Heliport',),\n",
       " ('Scatsta Airport',),\n",
       " ('North Sea',),\n",
       " ('North Sea',),\n",
       " ('North Sea',),\n",
       " ('North Sea',),\n",
       " ('North Sea',),\n",
       " ('North Sea',),\n",
       " ('North Sea',),\n",
       " ('North Sea',),\n",
       " ('North Sea',),\n",
       " ('North Sea',),\n",
       " ('North Sea',),\n",
       " ('North Sea',),\n",
       " ('North Sea',),\n",
       " ('North Sea',),\n",
       " ('North Sea',),\n",
       " ('All Airports',),\n",
       " ('Perth Scone Airport',),\n",
       " ('Caernarfon Airport',),\n",
       " ('London - Kings Cross',),\n",
       " ('Stevenage Railway Station',),\n",
       " ('Peterborough Railway Station',),\n",
       " ('Whittlesford Parkway Rail Station',),\n",
       " ('Oban Rail Station',),\n",
       " ('Duxford Aerodrome',),\n",
       " ('Woking',),\n",
       " ('Rochester Airport',),\n",
       " ('Euston Station',),\n",
       " ('Rothera Research Station',),\n",
       " ('Ellough',),\n",
       " ('Brawdy RAF Airport',),\n",
       " ('Redhill Aerodrome',),\n",
       " ('Victoria Station',),\n",
       " ('Enstone',),\n",
       " ('North Sea',),\n",
       " ('Port of Belfast',),\n",
       " ('Stranraer Ferry Port',),\n",
       " ('Stoke',),\n",
       " ('Elstree',),\n",
       " ('Sandtoft Airfield',),\n",
       " ('Bourne Park',),\n",
       " ('Newhaven Ferry Port',),\n",
       " ('Aberdeen Harbour',),\n",
       " ('Lerwick Harbour',),\n",
       " ('Queen Street Station',),\n",
       " ('Waterloo International',),\n",
       " ('Central Station',),\n",
       " ('Euston Station',),\n",
       " ('Waterloo International',)]"
      ]
     },
     "execution_count": 42,
     "metadata": {},
     "output_type": "execute_result"
    }
   ],
   "source": [
    "cur.execute(\"\"\"SELECT name FROM airports WHERE country = 'United Kingdom'\"\"\").fetchall()"
   ]
  },
  {
   "cell_type": "code",
   "execution_count": 40,
   "metadata": {},
   "outputs": [
    {
     "data": {
      "text/plain": [
       "[('Papua New Guinea',),\n",
       " ('Greenland',),\n",
       " ('Iceland',),\n",
       " ('Canada',),\n",
       " ('Algeria',),\n",
       " ('Benin',),\n",
       " ('Burkina Faso',),\n",
       " ('Ghana',),\n",
       " (\"Cote d'Ivoire\",),\n",
       " ('Nigeria',),\n",
       " ('Niger',),\n",
       " ('Tunisia',),\n",
       " ('Togo',),\n",
       " ('Belgium',),\n",
       " ('Germany',),\n",
       " ('United States',),\n",
       " ('Estonia',),\n",
       " ('Finland',),\n",
       " ('United Kingdom',),\n",
       " ('Guernsey',),\n",
       " ('Jersey',),\n",
       " ('Isle of Man',),\n",
       " ('Falkland Islands',),\n",
       " ('Netherlands',),\n",
       " ('Ireland',),\n",
       " ('Denmark',),\n",
       " ('Faroe Islands',),\n",
       " ('Luxembourg',),\n",
       " ('Norway',),\n",
       " ('Poland',),\n",
       " ('Sweden',),\n",
       " ('South Africa',),\n",
       " ('Botswana',),\n",
       " ('Congo (Brazzaville)',),\n",
       " ('Congo (Kinshasa)',),\n",
       " ('Swaziland',),\n",
       " ('Central African Republic',),\n",
       " ('Equatorial Guinea',),\n",
       " ('Saint Helena',),\n",
       " ('Mauritius',),\n",
       " ('British Indian Ocean Territory',),\n",
       " ('Cameroon',),\n",
       " ('Zambia',),\n",
       " ('Comoros',),\n",
       " ('Mayotte',),\n",
       " ('Reunion',),\n",
       " ('Madagascar',),\n",
       " ('Angola',),\n",
       " ('Puerto Rico',),\n",
       " ('Gabon',),\n",
       " ('Sao Tome and Principe',),\n",
       " ('Mozambique',),\n",
       " ('Seychelles',),\n",
       " ('Chad',),\n",
       " ('Zimbabwe',),\n",
       " ('Malawi',),\n",
       " ('Lesotho',),\n",
       " ('Mali',),\n",
       " ('Gambia',),\n",
       " ('Spain',),\n",
       " ('Sierra Leone',),\n",
       " ('Guinea-Bissau',),\n",
       " ('Liberia',),\n",
       " ('Morocco',),\n",
       " ('Senegal',),\n",
       " ('Mauritania',),\n",
       " ('Guinea',),\n",
       " ('Cape Verde',),\n",
       " ('Ethiopia',),\n",
       " ('Maldives',),\n",
       " ('Burundi',),\n",
       " ('Somalia',),\n",
       " ('Egypt',),\n",
       " ('Kenya',),\n",
       " ('Libya',),\n",
       " ('Rwanda',),\n",
       " ('Sudan',),\n",
       " ('South Sudan',),\n",
       " ('Tanzania',),\n",
       " ('Uganda',),\n",
       " ('Albania',),\n",
       " ('Bulgaria',),\n",
       " ('Cyprus',),\n",
       " ('Croatia',),\n",
       " ('Greece',),\n",
       " ('France',),\n",
       " ('Saint Pierre and Miquelon',),\n",
       " ('Hungary',),\n",
       " ('Italy',),\n",
       " ('Slovenia',),\n",
       " ('Czech Republic',),\n",
       " ('Israel',),\n",
       " ('Malta',),\n",
       " ('Austria',),\n",
       " ('Portugal',),\n",
       " ('Bosnia and Herzegovina',),\n",
       " ('Romania',),\n",
       " ('Switzerland',),\n",
       " ('Turkey',),\n",
       " ('Moldova',),\n",
       " ('Macedonia',),\n",
       " ('Gibraltar',),\n",
       " ('Serbia',),\n",
       " ('Montenegro',),\n",
       " ('Slovakia',),\n",
       " ('Turks and Caicos Islands',),\n",
       " ('Dominican Republic',),\n",
       " ('Guatemala',),\n",
       " ('Honduras',),\n",
       " ('Jamaica',),\n",
       " ('Mexico',),\n",
       " ('Nicaragua',),\n",
       " ('Panama',),\n",
       " ('Costa Rica',),\n",
       " ('El Salvador',),\n",
       " ('Haiti',),\n",
       " ('Cuba',),\n",
       " ('Cayman Islands',),\n",
       " ('Bahamas',),\n",
       " ('Belize',),\n",
       " ('Cook Islands',),\n",
       " ('Fiji',),\n",
       " ('Tonga',),\n",
       " ('Kiribati',),\n",
       " ('Australia',),\n",
       " ('Wallis and Futuna',),\n",
       " ('Samoa',),\n",
       " ('American Samoa',),\n",
       " ('French Polynesia',),\n",
       " ('Vanuatu',),\n",
       " ('New Caledonia',),\n",
       " ('New Zealand',),\n",
       " ('Antarctica',),\n",
       " ('Afghanistan',),\n",
       " ('Bahrain',),\n",
       " ('Saudi Arabia',),\n",
       " ('Iran',),\n",
       " ('Argentina',),\n",
       " ('Jordan',),\n",
       " ('West Bank',),\n",
       " ('Kuwait',),\n",
       " ('Lebanon',),\n",
       " ('United Arab Emirates',),\n",
       " ('Oman',),\n",
       " ('Pakistan',),\n",
       " ('Iraq',),\n",
       " ('Syria',),\n",
       " ('Qatar',),\n",
       " ('Northern Mariana Islands',),\n",
       " ('Guam',),\n",
       " ('Marshall Islands',),\n",
       " ('Midway Islands',),\n",
       " ('Micronesia',),\n",
       " ('Palau',),\n",
       " ('Taiwan',),\n",
       " ('Japan',),\n",
       " ('South Korea',),\n",
       " ('Philippines',),\n",
       " ('Turkmenistan',),\n",
       " ('Brazil',),\n",
       " ('Chile',),\n",
       " ('Ecuador',),\n",
       " ('Paraguay',),\n",
       " ('Colombia',),\n",
       " ('Bolivia',),\n",
       " ('Suriname',),\n",
       " ('French Guiana',),\n",
       " ('Peru',),\n",
       " ('Uruguay',),\n",
       " ('Venezuela',),\n",
       " ('Guyana',),\n",
       " ('Antigua and Barbuda',),\n",
       " ('Barbados',),\n",
       " ('Dominica',),\n",
       " ('Martinique',),\n",
       " ('Guadeloupe',),\n",
       " ('Grenada',),\n",
       " ('Virgin Islands',),\n",
       " ('Saint Kitts and Nevis',),\n",
       " ('Saint Lucia',),\n",
       " ('Aruba',),\n",
       " ('Netherlands Antilles',),\n",
       " ('Anguilla',),\n",
       " ('Trinidad and Tobago',),\n",
       " ('British Virgin Islands',),\n",
       " ('Saint Vincent and the Grenadines',),\n",
       " ('Kazakhstan',),\n",
       " ('Kyrgyzstan',),\n",
       " ('Azerbaijan',),\n",
       " ('Russia',),\n",
       " ('Ukraine',),\n",
       " ('Belarus',),\n",
       " ('Tajikistan',),\n",
       " ('Uzbekistan',),\n",
       " ('India',),\n",
       " ('Sri Lanka',),\n",
       " ('Cambodia',),\n",
       " ('Bangladesh',),\n",
       " ('Hong Kong',),\n",
       " ('Laos',),\n",
       " ('Macau',),\n",
       " ('Nepal',),\n",
       " ('Bhutan',),\n",
       " ('Thailand',),\n",
       " ('Indonesia',),\n",
       " ('Vietnam',),\n",
       " ('Burma',),\n",
       " ('Malaysia',),\n",
       " ('Brunei',),\n",
       " ('East Timor',),\n",
       " ('Singapore',),\n",
       " ('Christmas Island',),\n",
       " ('Norfolk Island',),\n",
       " ('China',),\n",
       " ('Korea',),\n",
       " ('Mongolia',),\n",
       " ('Latvia',),\n",
       " ('Lithuania',),\n",
       " ('Armenia',),\n",
       " ('Eritrea',),\n",
       " ('Palestine',),\n",
       " ('Yemen',),\n",
       " ('Georgia',),\n",
       " ('Bermuda',),\n",
       " ('Solomon Islands',),\n",
       " ('Nauru',),\n",
       " ('Tuvalu',),\n",
       " ('Namibia',),\n",
       " ('Djibouti',),\n",
       " ('Montserrat',),\n",
       " ('Monaco',),\n",
       " ('Johnston Atoll',),\n",
       " ('Niue',),\n",
       " ('Western Sahara',),\n",
       " ('Cocos (Keeling) Islands',),\n",
       " ('South Georgia and the Islands',),\n",
       " ('Myanmar',),\n",
       " ('Svalbard',),\n",
       " ('North Korea',),\n",
       " ('Wake Island',)]"
      ]
     },
     "execution_count": 40,
     "metadata": {},
     "output_type": "execute_result"
    }
   ],
   "source": [
    "cur.execute(\"\"\"SELECT distinct country FROM airports\"\"\").fetchall()"
   ]
  },
  {
   "cell_type": "markdown",
   "metadata": {},
   "source": [
    "#### Task Write a query that will join the latitude and longitude data from the airports table to the information on the routes table"
   ]
  },
  {
   "cell_type": "code",
   "execution_count": 43,
   "metadata": {},
   "outputs": [
    {
     "name": "stdout",
     "output_type": "stream",
     "text": [
      "[(0, '2B', '410', 'AER', '2965', 'KZN', '2990', None, '0', 'CR2'), (1, '2B', '410', 'ASF', '2966', 'KZN', '2990', None, '0', 'CR2'), (2, '2B', '410', 'ASF', '2966', 'MRV', '2962', None, '0', 'CR2'), (3, '2B', '410', 'CEK', '2968', 'KZN', '2990', None, '0', 'CR2'), (4, '2B', '410', 'CEK', '2968', 'OVB', '4078', None, '0', 'CR2')]\n"
     ]
    }
   ],
   "source": [
    "cur.execute(\"SELECT * FROM routes limit 5;\")\n",
    "results = cur.fetchall()\n",
    "print(results)"
   ]
  },
  {
   "cell_type": "code",
   "execution_count": null,
   "metadata": {},
   "outputs": [],
   "source": [
    "SELECT airports,\n",
    "       routest2.like\n",
    "FROM sadavath.users t1\n",
    "INNER JOIN sadavath.events t2\n",
    "  ON t1.id = t2.user_id\n"
   ]
  },
  {
   "cell_type": "code",
   "execution_count": null,
   "metadata": {},
   "outputs": [],
   "source": [
    "longitude', 'TEXT', 0, None, 0)\n",
    "(9, 'altitude', 'TEXT', 0, Non"
   ]
  },
  {
   "cell_type": "code",
   "execution_count": null,
   "metadata": {},
   "outputs": [],
   "source": []
  },
  {
   "cell_type": "code",
   "execution_count": null,
   "metadata": {},
   "outputs": [],
   "source": []
  },
  {
   "cell_type": "code",
   "execution_count": null,
   "metadata": {},
   "outputs": [],
   "source": []
  }
 ],
 "metadata": {
  "kernelspec": {
   "display_name": "Python 3",
   "language": "python",
   "name": "python3"
  },
  "language_info": {
   "codemirror_mode": {
    "name": "ipython",
    "version": 3
   },
   "file_extension": ".py",
   "mimetype": "text/x-python",
   "name": "python",
   "nbconvert_exporter": "python",
   "pygments_lexer": "ipython3",
   "version": "3.7.3"
  }
 },
 "nbformat": 4,
 "nbformat_minor": 2
}
